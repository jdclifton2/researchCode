{
  "nbformat": 4,
  "nbformat_minor": 0,
  "metadata": {
    "colab": {
      "name": "praise-to-and-from.ipynb",
      "provenance": [],
      "collapsed_sections": [],
      "toc_visible": true,
      "include_colab_link": true
    },
    "kernelspec": {
      "display_name": "Python 3",
      "language": "python",
      "name": "python3"
    },
    "language_info": {
      "codemirror_mode": {
        "name": "ipython",
        "version": 3
      },
      "file_extension": ".py",
      "mimetype": "text/x-python",
      "name": "python",
      "nbconvert_exporter": "python",
      "pygments_lexer": "ipython3",
      "version": "3.8.5"
    }
  },
  "cells": [
    {
      "cell_type": "markdown",
      "metadata": {
        "id": "view-in-github",
        "colab_type": "text"
      },
      "source": [
        "<a href=\"https://colab.research.google.com/github/jdclifton2/researchCode/blob/master/praise_to_and_from.ipynb\" target=\"_parent\"><img src=\"https://colab.research.google.com/assets/colab-badge.svg\" alt=\"Open In Colab\"/></a>"
      ]
    },
    {
      "cell_type": "markdown",
      "metadata": {
        "id": "uCoZkCUYZshr"
      },
      "source": [
        "# The first part of this notebook loads the data. It was done by @ygg_anderson "
      ]
    },
    {
      "cell_type": "code",
      "metadata": {
        "colab": {
          "base_uri": "https://localhost:8080/",
          "height": 17
        },
        "id": "3Ln-eNbXZshu",
        "outputId": "80d1e998-7cb1-4f96-c2ed-73caf88fe17b"
      },
      "source": [
        "import panel as pn\n",
        "pn.extension()\n",
        "import pandas as pd\n",
        "import numpy as np\n",
        "#import hvplot.pandas\n",
        "import param, random\n",
        "import datetime as dt\n",
        "\n",
        "import matplotlib.pyplot as plt\n",
        "\n",
        "%matplotlib inline"
      ],
      "execution_count": 1,
      "outputs": [
        {
          "output_type": "display_data",
          "data": {
            "application/javascript": [
              "\n",
              "(function(root) {\n",
              "  function now() {\n",
              "    return new Date();\n",
              "  }\n",
              "\n",
              "  var force = true;\n",
              "\n",
              "  if (typeof root._bokeh_onload_callbacks === \"undefined\" || force === true) {\n",
              "    root._bokeh_onload_callbacks = [];\n",
              "    root._bokeh_is_loading = undefined;\n",
              "  }\n",
              "\n",
              "  if (typeof (root._bokeh_timeout) === \"undefined\" || force === true) {\n",
              "    root._bokeh_timeout = Date.now() + 5000;\n",
              "    root._bokeh_failed_load = false;\n",
              "  }\n",
              "\n",
              "  function run_callbacks() {\n",
              "    try {\n",
              "      root._bokeh_onload_callbacks.forEach(function(callback) {\n",
              "        if (callback != null)\n",
              "          callback();\n",
              "      });\n",
              "    } finally {\n",
              "      delete root._bokeh_onload_callbacks\n",
              "    }\n",
              "    console.debug(\"Bokeh: all callbacks have finished\");\n",
              "  }\n",
              "\n",
              "  function load_libs(css_urls, js_urls, js_modules, callback) {\n",
              "    if (css_urls == null) css_urls = [];\n",
              "    if (js_urls == null) js_urls = [];\n",
              "    if (js_modules == null) js_modules = [];\n",
              "\n",
              "    root._bokeh_onload_callbacks.push(callback);\n",
              "    if (root._bokeh_is_loading > 0) {\n",
              "      console.debug(\"Bokeh: BokehJS is being loaded, scheduling callback at\", now());\n",
              "      return null;\n",
              "    }\n",
              "    if (js_urls.length === 0 && js_modules.length === 0) {\n",
              "      run_callbacks();\n",
              "      return null;\n",
              "    }\n",
              "    console.debug(\"Bokeh: BokehJS not loaded, scheduling load and callback at\", now());\n",
              "    root._bokeh_is_loading = css_urls.length + js_urls.length + js_modules.length;\n",
              "\n",
              "    function on_load() {\n",
              "      root._bokeh_is_loading--;\n",
              "      if (root._bokeh_is_loading === 0) {\n",
              "        console.debug(\"Bokeh: all BokehJS libraries/stylesheets loaded\");\n",
              "        run_callbacks()\n",
              "      }\n",
              "    }\n",
              "\n",
              "    function on_error() {\n",
              "      console.error(\"failed to load \" + url);\n",
              "    }\n",
              "\n",
              "    for (var i = 0; i < css_urls.length; i++) {\n",
              "      var url = css_urls[i];\n",
              "      const element = document.createElement(\"link\");\n",
              "      element.onload = on_load;\n",
              "      element.onerror = on_error;\n",
              "      element.rel = \"stylesheet\";\n",
              "      element.type = \"text/css\";\n",
              "      element.href = url;\n",
              "      console.debug(\"Bokeh: injecting link tag for BokehJS stylesheet: \", url);\n",
              "      document.body.appendChild(element);\n",
              "    }\n",
              "\n",
              "    var skip = [];\n",
              "    if (window.requirejs) {\n",
              "      window.requirejs.config({'paths': {'tabulator': 'https://unpkg.com/tabulator-tables@4.9.3/dist/js/tabulator'}});\n",
              "      require([\"tabulator\"], function(Tabulator,) {\n",
              "        window.Tabulator = Tabulator;\n",
              "      })\n",
              "    }\n",
              "    if (((window['tabulator'] !== undefined) && (!(window['tabulator'] instanceof HTMLElement))) || window.requirejs) {\n",
              "      var urls = ['https://unpkg.com/tabulator-tables@4.9.3/dist/js/tabulator.js', 'https://unpkg.com/moment@2.27.0/moment.js'];\n",
              "      for (var i = 0; i < urls.length; i++) {\n",
              "        skip.push(urls[i])\n",
              "      }\n",
              "    }\n",
              "    for (var i = 0; i < js_urls.length; i++) {\n",
              "      var url = js_urls[i];\n",
              "      if (skip.indexOf(url) >= 0) { on_load(); continue; }\n",
              "      var element = document.createElement('script');\n",
              "      element.onload = on_load;\n",
              "      element.onerror = on_error;\n",
              "      element.async = false;\n",
              "      element.src = url;\n",
              "      console.debug(\"Bokeh: injecting script tag for BokehJS library: \", url);\n",
              "      document.head.appendChild(element);\n",
              "    }\n",
              "    for (var i = 0; i < js_modules.length; i++) {\n",
              "      var url = js_modules[i];\n",
              "      if (skip.indexOf(url) >= 0) { on_load(); continue; }\n",
              "      var element = document.createElement('script');\n",
              "      element.onload = on_load;\n",
              "      element.onerror = on_error;\n",
              "      element.async = false;\n",
              "      element.src = url;\n",
              "      element.type = \"module\";\n",
              "      console.debug(\"Bokeh: injecting script tag for BokehJS library: \", url);\n",
              "      document.head.appendChild(element);\n",
              "    }\n",
              "    if (!js_urls.length && !js_modules.length) {\n",
              "      on_load()\n",
              "    }\n",
              "  };\n",
              "\n",
              "  function inject_raw_css(css) {\n",
              "    const element = document.createElement(\"style\");\n",
              "    element.appendChild(document.createTextNode(css));\n",
              "    document.body.appendChild(element);\n",
              "  }\n",
              "\n",
              "  var js_urls = [\"https://unpkg.com/tabulator-tables@4.9.3/dist/js/tabulator.js\", \"https://unpkg.com/moment@2.27.0/moment.js\", \"https://cdn.bokeh.org/bokeh/release/bokeh-2.3.2.min.js\", \"https://cdn.bokeh.org/bokeh/release/bokeh-widgets-2.3.2.min.js\", \"https://cdn.bokeh.org/bokeh/release/bokeh-tables-2.3.2.min.js\", \"https://unpkg.com/@holoviz/panel@^0.11.3/dist/panel.min.js\"];\n",
              "  var js_modules = [];\n",
              "  var css_urls = [\"https://unpkg.com/tabulator-tables@4.9.3/dist/css/tabulator_simple.min.css\", \"https://unpkg.com/@holoviz/panel@0.11.3/dist/css/markdown.css\", \"https://unpkg.com/@holoviz/panel@0.11.3/dist/css/card.css\", \"https://unpkg.com/@holoviz/panel@0.11.3/dist/css/json.css\", \"https://unpkg.com/@holoviz/panel@0.11.3/dist/css/dataframe.css\", \"https://unpkg.com/@holoviz/panel@0.11.3/dist/css/widgets.css\", \"https://unpkg.com/@holoviz/panel@0.11.3/dist/css/loading.css\", \"https://unpkg.com/@holoviz/panel@0.11.3/dist/css/alerts.css\"];\n",
              "  var inline_js = [\n",
              "    function(Bokeh) {\n",
              "      inject_raw_css(\"\\n    .bk.pn-loading.arcs:before {\\n      background-image: url(\\\"data:image/svg+xml;base64,PHN2ZyB4bWxucz0iaHR0cDovL3d3dy53My5vcmcvMjAwMC9zdmciIHhtbG5zOnhsaW5rPSJodHRwOi8vd3d3LnczLm9yZy8xOTk5L3hsaW5rIiBzdHlsZT0ibWFyZ2luOiBhdXRvOyBiYWNrZ3JvdW5kOiBub25lOyBkaXNwbGF5OiBibG9jazsgc2hhcGUtcmVuZGVyaW5nOiBhdXRvOyIgdmlld0JveD0iMCAwIDEwMCAxMDAiIHByZXNlcnZlQXNwZWN0UmF0aW89InhNaWRZTWlkIj4gIDxjaXJjbGUgY3g9IjUwIiBjeT0iNTAiIHI9IjMyIiBzdHJva2Utd2lkdGg9IjgiIHN0cm9rZT0iI2MzYzNjMyIgc3Ryb2tlLWRhc2hhcnJheT0iNTAuMjY1NDgyNDU3NDM2NjkgNTAuMjY1NDgyNDU3NDM2NjkiIGZpbGw9Im5vbmUiIHN0cm9rZS1saW5lY2FwPSJyb3VuZCI+ICAgIDxhbmltYXRlVHJhbnNmb3JtIGF0dHJpYnV0ZU5hbWU9InRyYW5zZm9ybSIgdHlwZT0icm90YXRlIiByZXBlYXRDb3VudD0iaW5kZWZpbml0ZSIgZHVyPSIxcyIga2V5VGltZXM9IjA7MSIgdmFsdWVzPSIwIDUwIDUwOzM2MCA1MCA1MCI+PC9hbmltYXRlVHJhbnNmb3JtPiAgPC9jaXJjbGU+PC9zdmc+\\\")\\n    }\\n    \");\n",
              "    },\n",
              "    function(Bokeh) {\n",
              "      Bokeh.set_log_level(\"info\");\n",
              "    },\n",
              "    function(Bokeh) {} // ensure no trailing comma for IE\n",
              "  ];\n",
              "\n",
              "  function run_inline_js() {\n",
              "    if ((root.Bokeh !== undefined) || (force === true)) {\n",
              "      for (var i = 0; i < inline_js.length; i++) {\n",
              "        inline_js[i].call(root, root.Bokeh);\n",
              "      }} else if (Date.now() < root._bokeh_timeout) {\n",
              "      setTimeout(run_inline_js, 100);\n",
              "    } else if (!root._bokeh_failed_load) {\n",
              "      console.log(\"Bokeh: BokehJS failed to load within specified timeout.\");\n",
              "      root._bokeh_failed_load = true;\n",
              "    }\n",
              "  }\n",
              "\n",
              "  if (root._bokeh_is_loading === 0) {\n",
              "    console.debug(\"Bokeh: BokehJS loaded, going straight to plotting\");\n",
              "    run_inline_js();\n",
              "  } else {\n",
              "    load_libs(css_urls, js_urls, js_modules, function() {\n",
              "      console.debug(\"Bokeh: BokehJS plotting callback run at\", now());\n",
              "      run_inline_js();\n",
              "    });\n",
              "  }\n",
              "}(window));"
            ],
            "application/vnd.holoviews_load.v0+json": "\n(function(root) {\n  function now() {\n    return new Date();\n  }\n\n  var force = true;\n\n  if (typeof root._bokeh_onload_callbacks === \"undefined\" || force === true) {\n    root._bokeh_onload_callbacks = [];\n    root._bokeh_is_loading = undefined;\n  }\n\n  if (typeof (root._bokeh_timeout) === \"undefined\" || force === true) {\n    root._bokeh_timeout = Date.now() + 5000;\n    root._bokeh_failed_load = false;\n  }\n\n  function run_callbacks() {\n    try {\n      root._bokeh_onload_callbacks.forEach(function(callback) {\n        if (callback != null)\n          callback();\n      });\n    } finally {\n      delete root._bokeh_onload_callbacks\n    }\n    console.debug(\"Bokeh: all callbacks have finished\");\n  }\n\n  function load_libs(css_urls, js_urls, js_modules, callback) {\n    if (css_urls == null) css_urls = [];\n    if (js_urls == null) js_urls = [];\n    if (js_modules == null) js_modules = [];\n\n    root._bokeh_onload_callbacks.push(callback);\n    if (root._bokeh_is_loading > 0) {\n      console.debug(\"Bokeh: BokehJS is being loaded, scheduling callback at\", now());\n      return null;\n    }\n    if (js_urls.length === 0 && js_modules.length === 0) {\n      run_callbacks();\n      return null;\n    }\n    console.debug(\"Bokeh: BokehJS not loaded, scheduling load and callback at\", now());\n    root._bokeh_is_loading = css_urls.length + js_urls.length + js_modules.length;\n\n    function on_load() {\n      root._bokeh_is_loading--;\n      if (root._bokeh_is_loading === 0) {\n        console.debug(\"Bokeh: all BokehJS libraries/stylesheets loaded\");\n        run_callbacks()\n      }\n    }\n\n    function on_error() {\n      console.error(\"failed to load \" + url);\n    }\n\n    for (var i = 0; i < css_urls.length; i++) {\n      var url = css_urls[i];\n      const element = document.createElement(\"link\");\n      element.onload = on_load;\n      element.onerror = on_error;\n      element.rel = \"stylesheet\";\n      element.type = \"text/css\";\n      element.href = url;\n      console.debug(\"Bokeh: injecting link tag for BokehJS stylesheet: \", url);\n      document.body.appendChild(element);\n    }\n\n    var skip = [];\n    if (window.requirejs) {\n      window.requirejs.config({'paths': {'tabulator': 'https://unpkg.com/tabulator-tables@4.9.3/dist/js/tabulator'}});\n      require([\"tabulator\"], function(Tabulator,) {\n        window.Tabulator = Tabulator;\n      })\n    }\n    if (((window['tabulator'] !== undefined) && (!(window['tabulator'] instanceof HTMLElement))) || window.requirejs) {\n      var urls = ['https://unpkg.com/tabulator-tables@4.9.3/dist/js/tabulator.js', 'https://unpkg.com/moment@2.27.0/moment.js'];\n      for (var i = 0; i < urls.length; i++) {\n        skip.push(urls[i])\n      }\n    }\n    for (var i = 0; i < js_urls.length; i++) {\n      var url = js_urls[i];\n      if (skip.indexOf(url) >= 0) { on_load(); continue; }\n      var element = document.createElement('script');\n      element.onload = on_load;\n      element.onerror = on_error;\n      element.async = false;\n      element.src = url;\n      console.debug(\"Bokeh: injecting script tag for BokehJS library: \", url);\n      document.head.appendChild(element);\n    }\n    for (var i = 0; i < js_modules.length; i++) {\n      var url = js_modules[i];\n      if (skip.indexOf(url) >= 0) { on_load(); continue; }\n      var element = document.createElement('script');\n      element.onload = on_load;\n      element.onerror = on_error;\n      element.async = false;\n      element.src = url;\n      element.type = \"module\";\n      console.debug(\"Bokeh: injecting script tag for BokehJS library: \", url);\n      document.head.appendChild(element);\n    }\n    if (!js_urls.length && !js_modules.length) {\n      on_load()\n    }\n  };\n\n  function inject_raw_css(css) {\n    const element = document.createElement(\"style\");\n    element.appendChild(document.createTextNode(css));\n    document.body.appendChild(element);\n  }\n\n  var js_urls = [\"https://unpkg.com/tabulator-tables@4.9.3/dist/js/tabulator.js\", \"https://unpkg.com/moment@2.27.0/moment.js\", \"https://cdn.bokeh.org/bokeh/release/bokeh-2.3.2.min.js\", \"https://cdn.bokeh.org/bokeh/release/bokeh-widgets-2.3.2.min.js\", \"https://cdn.bokeh.org/bokeh/release/bokeh-tables-2.3.2.min.js\", \"https://unpkg.com/@holoviz/panel@^0.11.3/dist/panel.min.js\"];\n  var js_modules = [];\n  var css_urls = [\"https://unpkg.com/tabulator-tables@4.9.3/dist/css/tabulator_simple.min.css\", \"https://unpkg.com/@holoviz/panel@0.11.3/dist/css/markdown.css\", \"https://unpkg.com/@holoviz/panel@0.11.3/dist/css/card.css\", \"https://unpkg.com/@holoviz/panel@0.11.3/dist/css/json.css\", \"https://unpkg.com/@holoviz/panel@0.11.3/dist/css/dataframe.css\", \"https://unpkg.com/@holoviz/panel@0.11.3/dist/css/widgets.css\", \"https://unpkg.com/@holoviz/panel@0.11.3/dist/css/loading.css\", \"https://unpkg.com/@holoviz/panel@0.11.3/dist/css/alerts.css\"];\n  var inline_js = [\n    function(Bokeh) {\n      inject_raw_css(\"\\n    .bk.pn-loading.arcs:before {\\n      background-image: url(\\\"data:image/svg+xml;base64,PHN2ZyB4bWxucz0iaHR0cDovL3d3dy53My5vcmcvMjAwMC9zdmciIHhtbG5zOnhsaW5rPSJodHRwOi8vd3d3LnczLm9yZy8xOTk5L3hsaW5rIiBzdHlsZT0ibWFyZ2luOiBhdXRvOyBiYWNrZ3JvdW5kOiBub25lOyBkaXNwbGF5OiBibG9jazsgc2hhcGUtcmVuZGVyaW5nOiBhdXRvOyIgdmlld0JveD0iMCAwIDEwMCAxMDAiIHByZXNlcnZlQXNwZWN0UmF0aW89InhNaWRZTWlkIj4gIDxjaXJjbGUgY3g9IjUwIiBjeT0iNTAiIHI9IjMyIiBzdHJva2Utd2lkdGg9IjgiIHN0cm9rZT0iI2MzYzNjMyIgc3Ryb2tlLWRhc2hhcnJheT0iNTAuMjY1NDgyNDU3NDM2NjkgNTAuMjY1NDgyNDU3NDM2NjkiIGZpbGw9Im5vbmUiIHN0cm9rZS1saW5lY2FwPSJyb3VuZCI+ICAgIDxhbmltYXRlVHJhbnNmb3JtIGF0dHJpYnV0ZU5hbWU9InRyYW5zZm9ybSIgdHlwZT0icm90YXRlIiByZXBlYXRDb3VudD0iaW5kZWZpbml0ZSIgZHVyPSIxcyIga2V5VGltZXM9IjA7MSIgdmFsdWVzPSIwIDUwIDUwOzM2MCA1MCA1MCI+PC9hbmltYXRlVHJhbnNmb3JtPiAgPC9jaXJjbGU+PC9zdmc+\\\")\\n    }\\n    \");\n    },\n    function(Bokeh) {\n      Bokeh.set_log_level(\"info\");\n    },\n    function(Bokeh) {} // ensure no trailing comma for IE\n  ];\n\n  function run_inline_js() {\n    if ((root.Bokeh !== undefined) || (force === true)) {\n      for (var i = 0; i < inline_js.length; i++) {\n        inline_js[i].call(root, root.Bokeh);\n      }} else if (Date.now() < root._bokeh_timeout) {\n      setTimeout(run_inline_js, 100);\n    } else if (!root._bokeh_failed_load) {\n      console.log(\"Bokeh: BokehJS failed to load within specified timeout.\");\n      root._bokeh_failed_load = true;\n    }\n  }\n\n  if (root._bokeh_is_loading === 0) {\n    console.debug(\"Bokeh: BokehJS loaded, going straight to plotting\");\n    run_inline_js();\n  } else {\n    load_libs(css_urls, js_urls, js_modules, function() {\n      console.debug(\"Bokeh: BokehJS plotting callback run at\", now());\n      run_inline_js();\n    });\n  }\n}(window));"
          },
          "metadata": {
            "tags": []
          }
        },
        {
          "output_type": "display_data",
          "data": {
            "application/javascript": [
              "\n",
              "if ((window.PyViz === undefined) || (window.PyViz instanceof HTMLElement)) {\n",
              "  window.PyViz = {comms: {}, comm_status:{}, kernels:{}, receivers: {}, plot_index: []}\n",
              "}\n",
              "\n",
              "\n",
              "    function JupyterCommManager() {\n",
              "    }\n",
              "\n",
              "    JupyterCommManager.prototype.register_target = function(plot_id, comm_id, msg_handler) {\n",
              "      if (window.comm_manager || ((window.Jupyter !== undefined) && (Jupyter.notebook.kernel != null))) {\n",
              "        var comm_manager = window.comm_manager || Jupyter.notebook.kernel.comm_manager;\n",
              "        comm_manager.register_target(comm_id, function(comm) {\n",
              "          comm.on_msg(msg_handler);\n",
              "        });\n",
              "      } else if ((plot_id in window.PyViz.kernels) && (window.PyViz.kernels[plot_id])) {\n",
              "        window.PyViz.kernels[plot_id].registerCommTarget(comm_id, function(comm) {\n",
              "          comm.onMsg = msg_handler;\n",
              "        });\n",
              "      } else if (typeof google != 'undefined' && google.colab.kernel != null) {\n",
              "        google.colab.kernel.comms.registerTarget(comm_id, (comm) => {\n",
              "          var messages = comm.messages[Symbol.asyncIterator]();\n",
              "          function processIteratorResult(result) {\n",
              "            var message = result.value;\n",
              "            console.log(message)\n",
              "            var content = {data: message.data, comm_id};\n",
              "            var buffers = []\n",
              "            for (var buffer of message.buffers || []) {\n",
              "              buffers.push(new DataView(buffer))\n",
              "            }\n",
              "            var metadata = message.metadata || {};\n",
              "            var msg = {content, buffers, metadata}\n",
              "            msg_handler(msg);\n",
              "            return messages.next().then(processIteratorResult);\n",
              "          }\n",
              "          return messages.next().then(processIteratorResult);\n",
              "        })\n",
              "      }\n",
              "    }\n",
              "\n",
              "    JupyterCommManager.prototype.get_client_comm = function(plot_id, comm_id, msg_handler) {\n",
              "      if (comm_id in window.PyViz.comms) {\n",
              "        return window.PyViz.comms[comm_id];\n",
              "      } else if (window.comm_manager || ((window.Jupyter !== undefined) && (Jupyter.notebook.kernel != null))) {\n",
              "        var comm_manager = window.comm_manager || Jupyter.notebook.kernel.comm_manager;\n",
              "        var comm = comm_manager.new_comm(comm_id, {}, {}, {}, comm_id);\n",
              "        if (msg_handler) {\n",
              "          comm.on_msg(msg_handler);\n",
              "        }\n",
              "      } else if ((plot_id in window.PyViz.kernels) && (window.PyViz.kernels[plot_id])) {\n",
              "        var comm = window.PyViz.kernels[plot_id].connectToComm(comm_id);\n",
              "        comm.open();\n",
              "        if (msg_handler) {\n",
              "          comm.onMsg = msg_handler;\n",
              "        }\n",
              "      } else if (typeof google != 'undefined' && google.colab.kernel != null) {\n",
              "        var comm_promise = google.colab.kernel.comms.open(comm_id)\n",
              "        comm_promise.then((comm) => {\n",
              "          window.PyViz.comms[comm_id] = comm;\n",
              "          if (msg_handler) {\n",
              "            var messages = comm.messages[Symbol.asyncIterator]();\n",
              "            function processIteratorResult(result) {\n",
              "              var message = result.value;\n",
              "              var content = {data: message.data};\n",
              "              var metadata = message.metadata || {comm_id};\n",
              "              var msg = {content, metadata}\n",
              "              msg_handler(msg);\n",
              "              return messages.next().then(processIteratorResult);\n",
              "            }\n",
              "            return messages.next().then(processIteratorResult);\n",
              "          }\n",
              "        }) \n",
              "        var sendClosure = (data, metadata, buffers, disposeOnDone) => {\n",
              "          return comm_promise.then((comm) => {\n",
              "            comm.send(data, metadata, buffers, disposeOnDone);\n",
              "          });\n",
              "        };\n",
              "        var comm = {\n",
              "          send: sendClosure\n",
              "        };\n",
              "      }\n",
              "      window.PyViz.comms[comm_id] = comm;\n",
              "      return comm;\n",
              "    }\n",
              "    window.PyViz.comm_manager = new JupyterCommManager();\n",
              "    \n",
              "\n",
              "\n",
              "var JS_MIME_TYPE = 'application/javascript';\n",
              "var HTML_MIME_TYPE = 'text/html';\n",
              "var EXEC_MIME_TYPE = 'application/vnd.holoviews_exec.v0+json';\n",
              "var CLASS_NAME = 'output';\n",
              "\n",
              "/**\n",
              " * Render data to the DOM node\n",
              " */\n",
              "function render(props, node) {\n",
              "  var div = document.createElement(\"div\");\n",
              "  var script = document.createElement(\"script\");\n",
              "  node.appendChild(div);\n",
              "  node.appendChild(script);\n",
              "}\n",
              "\n",
              "/**\n",
              " * Handle when a new output is added\n",
              " */\n",
              "function handle_add_output(event, handle) {\n",
              "  var output_area = handle.output_area;\n",
              "  var output = handle.output;\n",
              "  if ((output.data == undefined) || (!output.data.hasOwnProperty(EXEC_MIME_TYPE))) {\n",
              "    return\n",
              "  }\n",
              "  var id = output.metadata[EXEC_MIME_TYPE][\"id\"];\n",
              "  var toinsert = output_area.element.find(\".\" + CLASS_NAME.split(' ')[0]);\n",
              "  if (id !== undefined) {\n",
              "    var nchildren = toinsert.length;\n",
              "    var html_node = toinsert[nchildren-1].children[0];\n",
              "    html_node.innerHTML = output.data[HTML_MIME_TYPE];\n",
              "    var scripts = [];\n",
              "    var nodelist = html_node.querySelectorAll(\"script\");\n",
              "    for (var i in nodelist) {\n",
              "      if (nodelist.hasOwnProperty(i)) {\n",
              "        scripts.push(nodelist[i])\n",
              "      }\n",
              "    }\n",
              "\n",
              "    scripts.forEach( function (oldScript) {\n",
              "      var newScript = document.createElement(\"script\");\n",
              "      var attrs = [];\n",
              "      var nodemap = oldScript.attributes;\n",
              "      for (var j in nodemap) {\n",
              "        if (nodemap.hasOwnProperty(j)) {\n",
              "          attrs.push(nodemap[j])\n",
              "        }\n",
              "      }\n",
              "      attrs.forEach(function(attr) { newScript.setAttribute(attr.name, attr.value) });\n",
              "      newScript.appendChild(document.createTextNode(oldScript.innerHTML));\n",
              "      oldScript.parentNode.replaceChild(newScript, oldScript);\n",
              "    });\n",
              "    if (JS_MIME_TYPE in output.data) {\n",
              "      toinsert[nchildren-1].children[1].textContent = output.data[JS_MIME_TYPE];\n",
              "    }\n",
              "    output_area._hv_plot_id = id;\n",
              "    if ((window.Bokeh !== undefined) && (id in Bokeh.index)) {\n",
              "      window.PyViz.plot_index[id] = Bokeh.index[id];\n",
              "    } else {\n",
              "      window.PyViz.plot_index[id] = null;\n",
              "    }\n",
              "  } else if (output.metadata[EXEC_MIME_TYPE][\"server_id\"] !== undefined) {\n",
              "    var bk_div = document.createElement(\"div\");\n",
              "    bk_div.innerHTML = output.data[HTML_MIME_TYPE];\n",
              "    var script_attrs = bk_div.children[0].attributes;\n",
              "    for (var i = 0; i < script_attrs.length; i++) {\n",
              "      toinsert[toinsert.length - 1].childNodes[1].setAttribute(script_attrs[i].name, script_attrs[i].value);\n",
              "    }\n",
              "    // store reference to server id on output_area\n",
              "    output_area._bokeh_server_id = output.metadata[EXEC_MIME_TYPE][\"server_id\"];\n",
              "  }\n",
              "}\n",
              "\n",
              "/**\n",
              " * Handle when an output is cleared or removed\n",
              " */\n",
              "function handle_clear_output(event, handle) {\n",
              "  var id = handle.cell.output_area._hv_plot_id;\n",
              "  var server_id = handle.cell.output_area._bokeh_server_id;\n",
              "  if (((id === undefined) || !(id in PyViz.plot_index)) && (server_id !== undefined)) { return; }\n",
              "  var comm = window.PyViz.comm_manager.get_client_comm(\"hv-extension-comm\", \"hv-extension-comm\", function () {});\n",
              "  if (server_id !== null) {\n",
              "    comm.send({event_type: 'server_delete', 'id': server_id});\n",
              "    return;\n",
              "  } else if (comm !== null) {\n",
              "    comm.send({event_type: 'delete', 'id': id});\n",
              "  }\n",
              "  delete PyViz.plot_index[id];\n",
              "  if ((window.Bokeh !== undefined) & (id in window.Bokeh.index)) {\n",
              "    var doc = window.Bokeh.index[id].model.document\n",
              "    doc.clear();\n",
              "    const i = window.Bokeh.documents.indexOf(doc);\n",
              "    if (i > -1) {\n",
              "      window.Bokeh.documents.splice(i, 1);\n",
              "    }\n",
              "  }\n",
              "}\n",
              "\n",
              "/**\n",
              " * Handle kernel restart event\n",
              " */\n",
              "function handle_kernel_cleanup(event, handle) {\n",
              "  delete PyViz.comms[\"hv-extension-comm\"];\n",
              "  window.PyViz.plot_index = {}\n",
              "}\n",
              "\n",
              "/**\n",
              " * Handle update_display_data messages\n",
              " */\n",
              "function handle_update_output(event, handle) {\n",
              "  handle_clear_output(event, {cell: {output_area: handle.output_area}})\n",
              "  handle_add_output(event, handle)\n",
              "}\n",
              "\n",
              "function register_renderer(events, OutputArea) {\n",
              "  function append_mime(data, metadata, element) {\n",
              "    // create a DOM node to render to\n",
              "    var toinsert = this.create_output_subarea(\n",
              "    metadata,\n",
              "    CLASS_NAME,\n",
              "    EXEC_MIME_TYPE\n",
              "    );\n",
              "    this.keyboard_manager.register_events(toinsert);\n",
              "    // Render to node\n",
              "    var props = {data: data, metadata: metadata[EXEC_MIME_TYPE]};\n",
              "    render(props, toinsert[0]);\n",
              "    element.append(toinsert);\n",
              "    return toinsert\n",
              "  }\n",
              "\n",
              "  events.on('output_added.OutputArea', handle_add_output);\n",
              "  events.on('output_updated.OutputArea', handle_update_output);\n",
              "  events.on('clear_output.CodeCell', handle_clear_output);\n",
              "  events.on('delete.Cell', handle_clear_output);\n",
              "  events.on('kernel_ready.Kernel', handle_kernel_cleanup);\n",
              "\n",
              "  OutputArea.prototype.register_mime_type(EXEC_MIME_TYPE, append_mime, {\n",
              "    safe: true,\n",
              "    index: 0\n",
              "  });\n",
              "}\n",
              "\n",
              "if (window.Jupyter !== undefined) {\n",
              "  try {\n",
              "    var events = require('base/js/events');\n",
              "    var OutputArea = require('notebook/js/outputarea').OutputArea;\n",
              "    if (OutputArea.prototype.mime_types().indexOf(EXEC_MIME_TYPE) == -1) {\n",
              "      register_renderer(events, OutputArea);\n",
              "    }\n",
              "  } catch(err) {\n",
              "  }\n",
              "}\n"
            ],
            "application/vnd.holoviews_load.v0+json": "\nif ((window.PyViz === undefined) || (window.PyViz instanceof HTMLElement)) {\n  window.PyViz = {comms: {}, comm_status:{}, kernels:{}, receivers: {}, plot_index: []}\n}\n\n\n    function JupyterCommManager() {\n    }\n\n    JupyterCommManager.prototype.register_target = function(plot_id, comm_id, msg_handler) {\n      if (window.comm_manager || ((window.Jupyter !== undefined) && (Jupyter.notebook.kernel != null))) {\n        var comm_manager = window.comm_manager || Jupyter.notebook.kernel.comm_manager;\n        comm_manager.register_target(comm_id, function(comm) {\n          comm.on_msg(msg_handler);\n        });\n      } else if ((plot_id in window.PyViz.kernels) && (window.PyViz.kernels[plot_id])) {\n        window.PyViz.kernels[plot_id].registerCommTarget(comm_id, function(comm) {\n          comm.onMsg = msg_handler;\n        });\n      } else if (typeof google != 'undefined' && google.colab.kernel != null) {\n        google.colab.kernel.comms.registerTarget(comm_id, (comm) => {\n          var messages = comm.messages[Symbol.asyncIterator]();\n          function processIteratorResult(result) {\n            var message = result.value;\n            console.log(message)\n            var content = {data: message.data, comm_id};\n            var buffers = []\n            for (var buffer of message.buffers || []) {\n              buffers.push(new DataView(buffer))\n            }\n            var metadata = message.metadata || {};\n            var msg = {content, buffers, metadata}\n            msg_handler(msg);\n            return messages.next().then(processIteratorResult);\n          }\n          return messages.next().then(processIteratorResult);\n        })\n      }\n    }\n\n    JupyterCommManager.prototype.get_client_comm = function(plot_id, comm_id, msg_handler) {\n      if (comm_id in window.PyViz.comms) {\n        return window.PyViz.comms[comm_id];\n      } else if (window.comm_manager || ((window.Jupyter !== undefined) && (Jupyter.notebook.kernel != null))) {\n        var comm_manager = window.comm_manager || Jupyter.notebook.kernel.comm_manager;\n        var comm = comm_manager.new_comm(comm_id, {}, {}, {}, comm_id);\n        if (msg_handler) {\n          comm.on_msg(msg_handler);\n        }\n      } else if ((plot_id in window.PyViz.kernels) && (window.PyViz.kernels[plot_id])) {\n        var comm = window.PyViz.kernels[plot_id].connectToComm(comm_id);\n        comm.open();\n        if (msg_handler) {\n          comm.onMsg = msg_handler;\n        }\n      } else if (typeof google != 'undefined' && google.colab.kernel != null) {\n        var comm_promise = google.colab.kernel.comms.open(comm_id)\n        comm_promise.then((comm) => {\n          window.PyViz.comms[comm_id] = comm;\n          if (msg_handler) {\n            var messages = comm.messages[Symbol.asyncIterator]();\n            function processIteratorResult(result) {\n              var message = result.value;\n              var content = {data: message.data};\n              var metadata = message.metadata || {comm_id};\n              var msg = {content, metadata}\n              msg_handler(msg);\n              return messages.next().then(processIteratorResult);\n            }\n            return messages.next().then(processIteratorResult);\n          }\n        }) \n        var sendClosure = (data, metadata, buffers, disposeOnDone) => {\n          return comm_promise.then((comm) => {\n            comm.send(data, metadata, buffers, disposeOnDone);\n          });\n        };\n        var comm = {\n          send: sendClosure\n        };\n      }\n      window.PyViz.comms[comm_id] = comm;\n      return comm;\n    }\n    window.PyViz.comm_manager = new JupyterCommManager();\n    \n\n\nvar JS_MIME_TYPE = 'application/javascript';\nvar HTML_MIME_TYPE = 'text/html';\nvar EXEC_MIME_TYPE = 'application/vnd.holoviews_exec.v0+json';\nvar CLASS_NAME = 'output';\n\n/**\n * Render data to the DOM node\n */\nfunction render(props, node) {\n  var div = document.createElement(\"div\");\n  var script = document.createElement(\"script\");\n  node.appendChild(div);\n  node.appendChild(script);\n}\n\n/**\n * Handle when a new output is added\n */\nfunction handle_add_output(event, handle) {\n  var output_area = handle.output_area;\n  var output = handle.output;\n  if ((output.data == undefined) || (!output.data.hasOwnProperty(EXEC_MIME_TYPE))) {\n    return\n  }\n  var id = output.metadata[EXEC_MIME_TYPE][\"id\"];\n  var toinsert = output_area.element.find(\".\" + CLASS_NAME.split(' ')[0]);\n  if (id !== undefined) {\n    var nchildren = toinsert.length;\n    var html_node = toinsert[nchildren-1].children[0];\n    html_node.innerHTML = output.data[HTML_MIME_TYPE];\n    var scripts = [];\n    var nodelist = html_node.querySelectorAll(\"script\");\n    for (var i in nodelist) {\n      if (nodelist.hasOwnProperty(i)) {\n        scripts.push(nodelist[i])\n      }\n    }\n\n    scripts.forEach( function (oldScript) {\n      var newScript = document.createElement(\"script\");\n      var attrs = [];\n      var nodemap = oldScript.attributes;\n      for (var j in nodemap) {\n        if (nodemap.hasOwnProperty(j)) {\n          attrs.push(nodemap[j])\n        }\n      }\n      attrs.forEach(function(attr) { newScript.setAttribute(attr.name, attr.value) });\n      newScript.appendChild(document.createTextNode(oldScript.innerHTML));\n      oldScript.parentNode.replaceChild(newScript, oldScript);\n    });\n    if (JS_MIME_TYPE in output.data) {\n      toinsert[nchildren-1].children[1].textContent = output.data[JS_MIME_TYPE];\n    }\n    output_area._hv_plot_id = id;\n    if ((window.Bokeh !== undefined) && (id in Bokeh.index)) {\n      window.PyViz.plot_index[id] = Bokeh.index[id];\n    } else {\n      window.PyViz.plot_index[id] = null;\n    }\n  } else if (output.metadata[EXEC_MIME_TYPE][\"server_id\"] !== undefined) {\n    var bk_div = document.createElement(\"div\");\n    bk_div.innerHTML = output.data[HTML_MIME_TYPE];\n    var script_attrs = bk_div.children[0].attributes;\n    for (var i = 0; i < script_attrs.length; i++) {\n      toinsert[toinsert.length - 1].childNodes[1].setAttribute(script_attrs[i].name, script_attrs[i].value);\n    }\n    // store reference to server id on output_area\n    output_area._bokeh_server_id = output.metadata[EXEC_MIME_TYPE][\"server_id\"];\n  }\n}\n\n/**\n * Handle when an output is cleared or removed\n */\nfunction handle_clear_output(event, handle) {\n  var id = handle.cell.output_area._hv_plot_id;\n  var server_id = handle.cell.output_area._bokeh_server_id;\n  if (((id === undefined) || !(id in PyViz.plot_index)) && (server_id !== undefined)) { return; }\n  var comm = window.PyViz.comm_manager.get_client_comm(\"hv-extension-comm\", \"hv-extension-comm\", function () {});\n  if (server_id !== null) {\n    comm.send({event_type: 'server_delete', 'id': server_id});\n    return;\n  } else if (comm !== null) {\n    comm.send({event_type: 'delete', 'id': id});\n  }\n  delete PyViz.plot_index[id];\n  if ((window.Bokeh !== undefined) & (id in window.Bokeh.index)) {\n    var doc = window.Bokeh.index[id].model.document\n    doc.clear();\n    const i = window.Bokeh.documents.indexOf(doc);\n    if (i > -1) {\n      window.Bokeh.documents.splice(i, 1);\n    }\n  }\n}\n\n/**\n * Handle kernel restart event\n */\nfunction handle_kernel_cleanup(event, handle) {\n  delete PyViz.comms[\"hv-extension-comm\"];\n  window.PyViz.plot_index = {}\n}\n\n/**\n * Handle update_display_data messages\n */\nfunction handle_update_output(event, handle) {\n  handle_clear_output(event, {cell: {output_area: handle.output_area}})\n  handle_add_output(event, handle)\n}\n\nfunction register_renderer(events, OutputArea) {\n  function append_mime(data, metadata, element) {\n    // create a DOM node to render to\n    var toinsert = this.create_output_subarea(\n    metadata,\n    CLASS_NAME,\n    EXEC_MIME_TYPE\n    );\n    this.keyboard_manager.register_events(toinsert);\n    // Render to node\n    var props = {data: data, metadata: metadata[EXEC_MIME_TYPE]};\n    render(props, toinsert[0]);\n    element.append(toinsert);\n    return toinsert\n  }\n\n  events.on('output_added.OutputArea', handle_add_output);\n  events.on('output_updated.OutputArea', handle_update_output);\n  events.on('clear_output.CodeCell', handle_clear_output);\n  events.on('delete.Cell', handle_clear_output);\n  events.on('kernel_ready.Kernel', handle_kernel_cleanup);\n\n  OutputArea.prototype.register_mime_type(EXEC_MIME_TYPE, append_mime, {\n    safe: true,\n    index: 0\n  });\n}\n\nif (window.Jupyter !== undefined) {\n  try {\n    var events = require('base/js/events');\n    var OutputArea = require('notebook/js/outputarea').OutputArea;\n    if (OutputArea.prototype.mime_types().indexOf(EXEC_MIME_TYPE) == -1) {\n      register_renderer(events, OutputArea);\n    }\n  } catch(err) {\n  }\n}\n"
          },
          "metadata": {
            "tags": []
          }
        }
      ]
    },
    {
      "cell_type": "code",
      "metadata": {
        "id": "fDqxqSBPZsh0"
      },
      "source": [
        "periods = [\n",
        "    \"#17 May 7\",\n",
        "    \"#16 Apr 24\",\n",
        "    \"#15 Apr 9\",\n",
        "    \"#14 Mar 26\",\n",
        "    \"#13 Mar 12\",\n",
        "    \"#12 Feb 26\",\n",
        "    \"#11 Feb 12\",\n",
        "    \"#10 Jan 29\",\n",
        "    \"#9 Jan 15\", \n",
        "    \"#8 Jan 1\",\n",
        "    \"#7 Dec 18\",\n",
        "    \"#6 Dec 4\",\n",
        "    \"#5 Nov 20\", #\n",
        "    \"#4 Nov 6\", #\n",
        "    \"#3 Oct 23\", #\n",
        "    \"#2 Oct 9\",\n",
        "    \"#1 Sept 24\", #\n",
        "    \"#0 Sept 7 (historic)\", #\n",
        "]"
      ],
      "execution_count": 2,
      "outputs": []
    },
    {
      "cell_type": "code",
      "metadata": {
        "id": "4SWM8yPdZsh1"
      },
      "source": [
        "data = []\n",
        "for i, period in enumerate(periods):\n",
        "    \n",
        "    if i not in (17, 16, 14, 12, 13):\n",
        "    \n",
        "        df = pd.read_excel('data/TEC Praise Quantification.xlsx', skiprows=2, sheet_name=period,engine='openpyxl', usecols=\"A:M\")\n",
        "\n",
        "        df[['v1','v2','v3']] = list(df.columns[6:9])\n",
        "\n",
        "        df.columns = list(df.columns[:6]) + ['v1 norm', 'v2 norm', 'v3 norm'] + list(df.columns[9:])\n",
        "\n",
        "        df['period'] = period\n",
        "\n",
        "        df = df.dropna(thresh=8)\n",
        "\n",
        "        data.append(df)"
      ],
      "execution_count": 3,
      "outputs": []
    },
    {
      "cell_type": "code",
      "metadata": {
        "id": "2uSVSXdAZsh3"
      },
      "source": [
        "combined_data = pd.concat(data)"
      ],
      "execution_count": 4,
      "outputs": []
    },
    {
      "cell_type": "code",
      "metadata": {
        "colab": {
          "base_uri": "https://localhost:8080/",
          "height": 1000
        },
        "id": "K2buxaUGZsh4",
        "outputId": "d96bc8ed-dbae-4351-ded5-9952621de94a"
      },
      "source": [
        "combined_data"
      ],
      "execution_count": 5,
      "outputs": [
        {
          "output_type": "execute_result",
          "data": {
            "text/html": [
              "<div>\n",
              "<style scoped>\n",
              "    .dataframe tbody tr th:only-of-type {\n",
              "        vertical-align: middle;\n",
              "    }\n",
              "\n",
              "    .dataframe tbody tr th {\n",
              "        vertical-align: top;\n",
              "    }\n",
              "\n",
              "    .dataframe thead th {\n",
              "        text-align: right;\n",
              "    }\n",
              "</style>\n",
              "<table border=\"1\" class=\"dataframe\">\n",
              "  <thead>\n",
              "    <tr style=\"text-align: right;\">\n",
              "      <th></th>\n",
              "      <th>To</th>\n",
              "      <th>From</th>\n",
              "      <th>Reason for dishing</th>\n",
              "      <th>Unnamed: 3</th>\n",
              "      <th>Date</th>\n",
              "      <th>Room</th>\n",
              "      <th>v1 norm</th>\n",
              "      <th>v2 norm</th>\n",
              "      <th>v3 norm</th>\n",
              "      <th>Avg %</th>\n",
              "      <th>IH per Praise</th>\n",
              "      <th>IH per person</th>\n",
              "      <th>Unnamed: 12</th>\n",
              "      <th>v1</th>\n",
              "      <th>v2</th>\n",
              "      <th>v3</th>\n",
              "      <th>period</th>\n",
              "      <th>Cred per Praise</th>\n",
              "      <th>Cred per person</th>\n",
              "      <th>To.1</th>\n",
              "    </tr>\n",
              "  </thead>\n",
              "  <tbody>\n",
              "    <tr>\n",
              "      <th>0</th>\n",
              "      <td>zeptimusQ</td>\n",
              "      <td>Tam2140#9361</td>\n",
              "      <td>for hosting this kicking params party!</td>\n",
              "      <td>Token Engineering Commons</td>\n",
              "      <td>May-07-2021</td>\n",
              "      <td>🙏praise</td>\n",
              "      <td>10000.0</td>\n",
              "      <td>100.0</td>\n",
              "      <td>200.0</td>\n",
              "      <td>0.001963</td>\n",
              "      <td>2.355252</td>\n",
              "      <td>39.04072</td>\n",
              "      <td>zeptimusQ</td>\n",
              "      <td>Metaverde</td>\n",
              "      <td>Juank</td>\n",
              "      <td>Edu</td>\n",
              "      <td>#17 May 7</td>\n",
              "      <td>NaN</td>\n",
              "      <td>NaN</td>\n",
              "      <td>NaN</td>\n",
              "    </tr>\n",
              "    <tr>\n",
              "      <th>1</th>\n",
              "      <td>zeptimusQ</td>\n",
              "      <td>iviangita#3204</td>\n",
              "      <td>for hosting and leading a lot of params parties</td>\n",
              "      <td>Token Engineering Commons</td>\n",
              "      <td>May-07-2021</td>\n",
              "      <td>🙏praise</td>\n",
              "      <td>10000.0</td>\n",
              "      <td>100.0</td>\n",
              "      <td>100.0</td>\n",
              "      <td>0.001663</td>\n",
              "      <td>1.995539</td>\n",
              "      <td>39.04072</td>\n",
              "      <td>zeptimusQ</td>\n",
              "      <td>Metaverde</td>\n",
              "      <td>Juank</td>\n",
              "      <td>Edu</td>\n",
              "      <td>#17 May 7</td>\n",
              "      <td>NaN</td>\n",
              "      <td>NaN</td>\n",
              "      <td>NaN</td>\n",
              "    </tr>\n",
              "    <tr>\n",
              "      <th>2</th>\n",
              "      <td>zeptimusQ</td>\n",
              "      <td>Juankbell#7458</td>\n",
              "      <td>for testing and deploying the bot to record an...</td>\n",
              "      <td>Token Engineering Commons</td>\n",
              "      <td>Apr-28-2021</td>\n",
              "      <td>🙏praise</td>\n",
              "      <td>1000.0</td>\n",
              "      <td>200.0</td>\n",
              "      <td>200.0</td>\n",
              "      <td>0.001342</td>\n",
              "      <td>1.610872</td>\n",
              "      <td>39.04072</td>\n",
              "      <td>zeptimusQ</td>\n",
              "      <td>Metaverde</td>\n",
              "      <td>Juank</td>\n",
              "      <td>Edu</td>\n",
              "      <td>#17 May 7</td>\n",
              "      <td>NaN</td>\n",
              "      <td>NaN</td>\n",
              "      <td>NaN</td>\n",
              "    </tr>\n",
              "    <tr>\n",
              "      <th>3</th>\n",
              "      <td>zeptimusQ</td>\n",
              "      <td>iviangita#3204</td>\n",
              "      <td>for the huge success of the MVV process</td>\n",
              "      <td>Token Engineering Commons</td>\n",
              "      <td>Apr-30-2021</td>\n",
              "      <td>🙏praise</td>\n",
              "      <td>1000.0</td>\n",
              "      <td>200.0</td>\n",
              "      <td>100.0</td>\n",
              "      <td>0.001043</td>\n",
              "      <td>1.251160</td>\n",
              "      <td>39.04072</td>\n",
              "      <td>zeptimusQ</td>\n",
              "      <td>Metaverde</td>\n",
              "      <td>Juank</td>\n",
              "      <td>Edu</td>\n",
              "      <td>#17 May 7</td>\n",
              "      <td>NaN</td>\n",
              "      <td>NaN</td>\n",
              "      <td>NaN</td>\n",
              "    </tr>\n",
              "    <tr>\n",
              "      <th>4</th>\n",
              "      <td>zeptimusQ</td>\n",
              "      <td>iviangita#3204</td>\n",
              "      <td>for his awesome work on the recorder bot, for ...</td>\n",
              "      <td>Token Engineering Commons</td>\n",
              "      <td>Apr-30-2021</td>\n",
              "      <td>🙏praise</td>\n",
              "      <td>1000.0</td>\n",
              "      <td>200.0</td>\n",
              "      <td>100.0</td>\n",
              "      <td>0.001043</td>\n",
              "      <td>1.251160</td>\n",
              "      <td>39.04072</td>\n",
              "      <td>zeptimusQ</td>\n",
              "      <td>Metaverde</td>\n",
              "      <td>Juank</td>\n",
              "      <td>Edu</td>\n",
              "      <td>#17 May 7</td>\n",
              "      <td>NaN</td>\n",
              "      <td>NaN</td>\n",
              "      <td>NaN</td>\n",
              "    </tr>\n",
              "    <tr>\n",
              "      <th>...</th>\n",
              "      <td>...</td>\n",
              "      <td>...</td>\n",
              "      <td>...</td>\n",
              "      <td>...</td>\n",
              "      <td>...</td>\n",
              "      <td>...</td>\n",
              "      <td>...</td>\n",
              "      <td>...</td>\n",
              "      <td>...</td>\n",
              "      <td>...</td>\n",
              "      <td>...</td>\n",
              "      <td>...</td>\n",
              "      <td>...</td>\n",
              "      <td>...</td>\n",
              "      <td>...</td>\n",
              "      <td>...</td>\n",
              "      <td>...</td>\n",
              "      <td>...</td>\n",
              "      <td>...</td>\n",
              "      <td>...</td>\n",
              "    </tr>\n",
              "    <tr>\n",
              "      <th>119</th>\n",
              "      <td>solsista</td>\n",
              "      <td>JessicaZartler</td>\n",
              "      <td>giving feedback on the TEC logo exercise - tha...</td>\n",
              "      <td>PRAISE</td>\n",
              "      <td>2020-09-29 00:00:00</td>\n",
              "      <td>TE Praise</td>\n",
              "      <td>1.0</td>\n",
              "      <td>10.0</td>\n",
              "      <td>30.0</td>\n",
              "      <td>0.005905</td>\n",
              "      <td>NaN</td>\n",
              "      <td>NaN</td>\n",
              "      <td>NaN</td>\n",
              "      <td>Tier</td>\n",
              "      <td>Griff</td>\n",
              "      <td>Livia</td>\n",
              "      <td>#2 Oct 9</td>\n",
              "      <td>0.915204</td>\n",
              "      <td>1.029059</td>\n",
              "      <td>solsista</td>\n",
              "    </tr>\n",
              "    <tr>\n",
              "      <th>120</th>\n",
              "      <td>solsista</td>\n",
              "      <td>krrisis</td>\n",
              "      <td>an interesting discussion on realigning incent...</td>\n",
              "      <td>PRAISE</td>\n",
              "      <td>2020-09-28 00:00:00</td>\n",
              "      <td>Commons Stack</td>\n",
              "      <td>3.0</td>\n",
              "      <td>1.0</td>\n",
              "      <td>4.0</td>\n",
              "      <td>0.000735</td>\n",
              "      <td>NaN</td>\n",
              "      <td>NaN</td>\n",
              "      <td>NaN</td>\n",
              "      <td>Tier</td>\n",
              "      <td>Griff</td>\n",
              "      <td>Livia</td>\n",
              "      <td>#2 Oct 9</td>\n",
              "      <td>0.113855</td>\n",
              "      <td>1.029059</td>\n",
              "      <td>solsista</td>\n",
              "    </tr>\n",
              "    <tr>\n",
              "      <th>121</th>\n",
              "      <td>sponnet2</td>\n",
              "      <td>GriffGreen</td>\n",
              "      <td>their INCREDIBLE progress on the CSTK token da...</td>\n",
              "      <td>PRAISE</td>\n",
              "      <td>2020-10-06 00:00:00</td>\n",
              "      <td>CS dDEV Team</td>\n",
              "      <td>3.0</td>\n",
              "      <td>5.0</td>\n",
              "      <td>10.0</td>\n",
              "      <td>0.002232</td>\n",
              "      <td>NaN</td>\n",
              "      <td>NaN</td>\n",
              "      <td>NaN</td>\n",
              "      <td>Tier</td>\n",
              "      <td>Griff</td>\n",
              "      <td>Livia</td>\n",
              "      <td>#2 Oct 9</td>\n",
              "      <td>0.345931</td>\n",
              "      <td>0.345931</td>\n",
              "      <td>sponnet2</td>\n",
              "    </tr>\n",
              "    <tr>\n",
              "      <th>122</th>\n",
              "      <td>tylerdmace</td>\n",
              "      <td>JessicaZartler</td>\n",
              "      <td>recording the cadCAD community call today - th...</td>\n",
              "      <td>PRAISE</td>\n",
              "      <td>2020-10-08 00:00:00</td>\n",
              "      <td>cadCAD_org</td>\n",
              "      <td>2.0</td>\n",
              "      <td>10.0</td>\n",
              "      <td>10.0</td>\n",
              "      <td>0.003023</td>\n",
              "      <td>NaN</td>\n",
              "      <td>NaN</td>\n",
              "      <td>NaN</td>\n",
              "      <td>Tier</td>\n",
              "      <td>Griff</td>\n",
              "      <td>Livia</td>\n",
              "      <td>#2 Oct 9</td>\n",
              "      <td>0.468519</td>\n",
              "      <td>0.468519</td>\n",
              "      <td>tylerdmace</td>\n",
              "    </tr>\n",
              "    <tr>\n",
              "      <th>123</th>\n",
              "      <td>willyogo</td>\n",
              "      <td>GriffGreen</td>\n",
              "      <td>taking on huge roles in Giveth and bringing st...</td>\n",
              "      <td>PRAISE</td>\n",
              "      <td>2020-10-01 00:00:00</td>\n",
              "      <td>Commons Stack</td>\n",
              "      <td>4.0</td>\n",
              "      <td>0.0</td>\n",
              "      <td>0.0</td>\n",
              "      <td>0.000000</td>\n",
              "      <td>NaN</td>\n",
              "      <td>NaN</td>\n",
              "      <td>NaN</td>\n",
              "      <td>Tier</td>\n",
              "      <td>Griff</td>\n",
              "      <td>Livia</td>\n",
              "      <td>#2 Oct 9</td>\n",
              "      <td>0.000000</td>\n",
              "      <td>0.000000</td>\n",
              "      <td>willyogo</td>\n",
              "    </tr>\n",
              "  </tbody>\n",
              "</table>\n",
              "<p>8071 rows × 20 columns</p>\n",
              "</div>"
            ],
            "text/plain": [
              "             To            From  ... Cred per person        To.1\n",
              "0     zeptimusQ    Tam2140#9361  ...             NaN         NaN\n",
              "1     zeptimusQ  iviangita#3204  ...             NaN         NaN\n",
              "2     zeptimusQ  Juankbell#7458  ...             NaN         NaN\n",
              "3     zeptimusQ  iviangita#3204  ...             NaN         NaN\n",
              "4     zeptimusQ  iviangita#3204  ...             NaN         NaN\n",
              "..          ...             ...  ...             ...         ...\n",
              "119    solsista  JessicaZartler  ...        1.029059    solsista\n",
              "120    solsista         krrisis  ...        1.029059    solsista\n",
              "121    sponnet2      GriffGreen  ...        0.345931    sponnet2\n",
              "122  tylerdmace  JessicaZartler  ...        0.468519  tylerdmace\n",
              "123    willyogo      GriffGreen  ...        0.000000    willyogo\n",
              "\n",
              "[8071 rows x 20 columns]"
            ]
          },
          "metadata": {
            "tags": []
          },
          "execution_count": 5
        }
      ]
    },
    {
      "cell_type": "markdown",
      "metadata": {
        "id": "WI4N4XOdZsh5"
      },
      "source": [
        "quantifiers = combined_data[combined_data[['IH per Praise', 'IH per person', 'Unnamed: 12']].isna().all(axis=1)]\n",
        "quantifiers"
      ]
    },
    {
      "cell_type": "code",
      "metadata": {
        "colab": {
          "base_uri": "https://localhost:8080/",
          "height": 1000
        },
        "id": "JWnYx3seZsh6",
        "outputId": "1102b775-cb19-47fb-a7a4-7aa5c18c3c64"
      },
      "source": [
        "receivers = combined_data[~combined_data[['IH per Praise', 'IH per person', 'Unnamed: 12']].isna().all(axis=1)]\n",
        "receivers"
      ],
      "execution_count": 6,
      "outputs": [
        {
          "output_type": "execute_result",
          "data": {
            "text/html": [
              "<div>\n",
              "<style scoped>\n",
              "    .dataframe tbody tr th:only-of-type {\n",
              "        vertical-align: middle;\n",
              "    }\n",
              "\n",
              "    .dataframe tbody tr th {\n",
              "        vertical-align: top;\n",
              "    }\n",
              "\n",
              "    .dataframe thead th {\n",
              "        text-align: right;\n",
              "    }\n",
              "</style>\n",
              "<table border=\"1\" class=\"dataframe\">\n",
              "  <thead>\n",
              "    <tr style=\"text-align: right;\">\n",
              "      <th></th>\n",
              "      <th>To</th>\n",
              "      <th>From</th>\n",
              "      <th>Reason for dishing</th>\n",
              "      <th>Unnamed: 3</th>\n",
              "      <th>Date</th>\n",
              "      <th>Room</th>\n",
              "      <th>v1 norm</th>\n",
              "      <th>v2 norm</th>\n",
              "      <th>v3 norm</th>\n",
              "      <th>Avg %</th>\n",
              "      <th>IH per Praise</th>\n",
              "      <th>IH per person</th>\n",
              "      <th>Unnamed: 12</th>\n",
              "      <th>v1</th>\n",
              "      <th>v2</th>\n",
              "      <th>v3</th>\n",
              "      <th>period</th>\n",
              "      <th>Cred per Praise</th>\n",
              "      <th>Cred per person</th>\n",
              "      <th>To.1</th>\n",
              "    </tr>\n",
              "  </thead>\n",
              "  <tbody>\n",
              "    <tr>\n",
              "      <th>0</th>\n",
              "      <td>zeptimusQ</td>\n",
              "      <td>Tam2140#9361</td>\n",
              "      <td>for hosting this kicking params party!</td>\n",
              "      <td>Token Engineering Commons</td>\n",
              "      <td>May-07-2021</td>\n",
              "      <td>🙏praise</td>\n",
              "      <td>10000.0</td>\n",
              "      <td>100.0</td>\n",
              "      <td>200.0</td>\n",
              "      <td>0.001963</td>\n",
              "      <td>2.355252</td>\n",
              "      <td>39.04072</td>\n",
              "      <td>zeptimusQ</td>\n",
              "      <td>Metaverde</td>\n",
              "      <td>Juank</td>\n",
              "      <td>Edu</td>\n",
              "      <td>#17 May 7</td>\n",
              "      <td>NaN</td>\n",
              "      <td>NaN</td>\n",
              "      <td>NaN</td>\n",
              "    </tr>\n",
              "    <tr>\n",
              "      <th>1</th>\n",
              "      <td>zeptimusQ</td>\n",
              "      <td>iviangita#3204</td>\n",
              "      <td>for hosting and leading a lot of params parties</td>\n",
              "      <td>Token Engineering Commons</td>\n",
              "      <td>May-07-2021</td>\n",
              "      <td>🙏praise</td>\n",
              "      <td>10000.0</td>\n",
              "      <td>100.0</td>\n",
              "      <td>100.0</td>\n",
              "      <td>0.001663</td>\n",
              "      <td>1.995539</td>\n",
              "      <td>39.04072</td>\n",
              "      <td>zeptimusQ</td>\n",
              "      <td>Metaverde</td>\n",
              "      <td>Juank</td>\n",
              "      <td>Edu</td>\n",
              "      <td>#17 May 7</td>\n",
              "      <td>NaN</td>\n",
              "      <td>NaN</td>\n",
              "      <td>NaN</td>\n",
              "    </tr>\n",
              "    <tr>\n",
              "      <th>2</th>\n",
              "      <td>zeptimusQ</td>\n",
              "      <td>Juankbell#7458</td>\n",
              "      <td>for testing and deploying the bot to record an...</td>\n",
              "      <td>Token Engineering Commons</td>\n",
              "      <td>Apr-28-2021</td>\n",
              "      <td>🙏praise</td>\n",
              "      <td>1000.0</td>\n",
              "      <td>200.0</td>\n",
              "      <td>200.0</td>\n",
              "      <td>0.001342</td>\n",
              "      <td>1.610872</td>\n",
              "      <td>39.04072</td>\n",
              "      <td>zeptimusQ</td>\n",
              "      <td>Metaverde</td>\n",
              "      <td>Juank</td>\n",
              "      <td>Edu</td>\n",
              "      <td>#17 May 7</td>\n",
              "      <td>NaN</td>\n",
              "      <td>NaN</td>\n",
              "      <td>NaN</td>\n",
              "    </tr>\n",
              "    <tr>\n",
              "      <th>3</th>\n",
              "      <td>zeptimusQ</td>\n",
              "      <td>iviangita#3204</td>\n",
              "      <td>for the huge success of the MVV process</td>\n",
              "      <td>Token Engineering Commons</td>\n",
              "      <td>Apr-30-2021</td>\n",
              "      <td>🙏praise</td>\n",
              "      <td>1000.0</td>\n",
              "      <td>200.0</td>\n",
              "      <td>100.0</td>\n",
              "      <td>0.001043</td>\n",
              "      <td>1.251160</td>\n",
              "      <td>39.04072</td>\n",
              "      <td>zeptimusQ</td>\n",
              "      <td>Metaverde</td>\n",
              "      <td>Juank</td>\n",
              "      <td>Edu</td>\n",
              "      <td>#17 May 7</td>\n",
              "      <td>NaN</td>\n",
              "      <td>NaN</td>\n",
              "      <td>NaN</td>\n",
              "    </tr>\n",
              "    <tr>\n",
              "      <th>4</th>\n",
              "      <td>zeptimusQ</td>\n",
              "      <td>iviangita#3204</td>\n",
              "      <td>for his awesome work on the recorder bot, for ...</td>\n",
              "      <td>Token Engineering Commons</td>\n",
              "      <td>Apr-30-2021</td>\n",
              "      <td>🙏praise</td>\n",
              "      <td>1000.0</td>\n",
              "      <td>200.0</td>\n",
              "      <td>100.0</td>\n",
              "      <td>0.001043</td>\n",
              "      <td>1.251160</td>\n",
              "      <td>39.04072</td>\n",
              "      <td>zeptimusQ</td>\n",
              "      <td>Metaverde</td>\n",
              "      <td>Juank</td>\n",
              "      <td>Edu</td>\n",
              "      <td>#17 May 7</td>\n",
              "      <td>NaN</td>\n",
              "      <td>NaN</td>\n",
              "      <td>NaN</td>\n",
              "    </tr>\n",
              "    <tr>\n",
              "      <th>...</th>\n",
              "      <td>...</td>\n",
              "      <td>...</td>\n",
              "      <td>...</td>\n",
              "      <td>...</td>\n",
              "      <td>...</td>\n",
              "      <td>...</td>\n",
              "      <td>...</td>\n",
              "      <td>...</td>\n",
              "      <td>...</td>\n",
              "      <td>...</td>\n",
              "      <td>...</td>\n",
              "      <td>...</td>\n",
              "      <td>...</td>\n",
              "      <td>...</td>\n",
              "      <td>...</td>\n",
              "      <td>...</td>\n",
              "      <td>...</td>\n",
              "      <td>...</td>\n",
              "      <td>...</td>\n",
              "      <td>...</td>\n",
              "    </tr>\n",
              "    <tr>\n",
              "      <th>505</th>\n",
              "      <td>atacas</td>\n",
              "      <td>Quantifiers</td>\n",
              "      <td>Gets paid by the Commons Stack so he only gets...</td>\n",
              "      <td>NaN</td>\n",
              "      <td>None</td>\n",
              "      <td>NaN</td>\n",
              "      <td>NaN</td>\n",
              "      <td>NaN</td>\n",
              "      <td>NaN</td>\n",
              "      <td>0.000000</td>\n",
              "      <td>NaN</td>\n",
              "      <td>NaN</td>\n",
              "      <td>atacas</td>\n",
              "      <td>Griff</td>\n",
              "      <td>Zep</td>\n",
              "      <td>Santi</td>\n",
              "      <td>#6 Dec 4</td>\n",
              "      <td>-5.494332</td>\n",
              "      <td>0.969588</td>\n",
              "      <td>NaN</td>\n",
              "    </tr>\n",
              "    <tr>\n",
              "      <th>506</th>\n",
              "      <td>luukweber</td>\n",
              "      <td>iviangita</td>\n",
              "      <td>participating in the Praisegiving Call 😀</td>\n",
              "      <td>PRAISE</td>\n",
              "      <td>2020-11-28 00:00:00</td>\n",
              "      <td>TE Praise</td>\n",
              "      <td>40.0</td>\n",
              "      <td>30.0</td>\n",
              "      <td>30.0</td>\n",
              "      <td>0.001180</td>\n",
              "      <td>NaN</td>\n",
              "      <td>NaN</td>\n",
              "      <td>luukweber</td>\n",
              "      <td>Griff</td>\n",
              "      <td>Zep</td>\n",
              "      <td>Santi</td>\n",
              "      <td>#6 Dec 4</td>\n",
              "      <td>0.924158</td>\n",
              "      <td>0.924158</td>\n",
              "      <td>NaN</td>\n",
              "    </tr>\n",
              "    <tr>\n",
              "      <th>507</th>\n",
              "      <td>krrisis</td>\n",
              "      <td>GriffGreen</td>\n",
              "      <td>sharing the gitcoin blog post... lots of great...</td>\n",
              "      <td>PRAISE</td>\n",
              "      <td>2020-12-02 00:00:00</td>\n",
              "      <td>Commons Stack</td>\n",
              "      <td>10.0</td>\n",
              "      <td>40.0</td>\n",
              "      <td>40.0</td>\n",
              "      <td>0.001103</td>\n",
              "      <td>NaN</td>\n",
              "      <td>NaN</td>\n",
              "      <td>krrisis</td>\n",
              "      <td>Griff</td>\n",
              "      <td>Zep</td>\n",
              "      <td>Santi</td>\n",
              "      <td>#6 Dec 4</td>\n",
              "      <td>0.863962</td>\n",
              "      <td>0.863962</td>\n",
              "      <td>NaN</td>\n",
              "    </tr>\n",
              "    <tr>\n",
              "      <th>508</th>\n",
              "      <td>sbilbao</td>\n",
              "      <td>JessicaZartler</td>\n",
              "      <td>joining the TE Praise channel and the TEC lab ...</td>\n",
              "      <td>PRAISE</td>\n",
              "      <td>2020-11-27 00:00:00</td>\n",
              "      <td>TE Praise</td>\n",
              "      <td>50.0</td>\n",
              "      <td>30.0</td>\n",
              "      <td>10.0</td>\n",
              "      <td>0.001005</td>\n",
              "      <td>NaN</td>\n",
              "      <td>NaN</td>\n",
              "      <td>sbilbao</td>\n",
              "      <td>Griff</td>\n",
              "      <td>Zep</td>\n",
              "      <td>Santi</td>\n",
              "      <td>#6 Dec 4</td>\n",
              "      <td>0.786973</td>\n",
              "      <td>0.786973</td>\n",
              "      <td>NaN</td>\n",
              "    </tr>\n",
              "    <tr>\n",
              "      <th>509</th>\n",
              "      <td>cryptononymouseconomist</td>\n",
              "      <td>JessicaZartler</td>\n",
              "      <td>joining the TE Praise channel and the TEC lab ...</td>\n",
              "      <td>PRAISE</td>\n",
              "      <td>2020-11-27 00:00:00</td>\n",
              "      <td>TE Praise</td>\n",
              "      <td>50.0</td>\n",
              "      <td>30.0</td>\n",
              "      <td>10.0</td>\n",
              "      <td>0.001005</td>\n",
              "      <td>NaN</td>\n",
              "      <td>NaN</td>\n",
              "      <td>cryptononymouseconomist</td>\n",
              "      <td>Griff</td>\n",
              "      <td>Zep</td>\n",
              "      <td>Santi</td>\n",
              "      <td>#6 Dec 4</td>\n",
              "      <td>0.786973</td>\n",
              "      <td>0.786973</td>\n",
              "      <td>NaN</td>\n",
              "    </tr>\n",
              "  </tbody>\n",
              "</table>\n",
              "<p>7947 rows × 20 columns</p>\n",
              "</div>"
            ],
            "text/plain": [
              "                          To            From  ... Cred per person To.1\n",
              "0                  zeptimusQ    Tam2140#9361  ...             NaN  NaN\n",
              "1                  zeptimusQ  iviangita#3204  ...             NaN  NaN\n",
              "2                  zeptimusQ  Juankbell#7458  ...             NaN  NaN\n",
              "3                  zeptimusQ  iviangita#3204  ...             NaN  NaN\n",
              "4                  zeptimusQ  iviangita#3204  ...             NaN  NaN\n",
              "..                       ...             ...  ...             ...  ...\n",
              "505                   atacas     Quantifiers  ...        0.969588  NaN\n",
              "506                luukweber       iviangita  ...        0.924158  NaN\n",
              "507                  krrisis      GriffGreen  ...        0.863962  NaN\n",
              "508                  sbilbao  JessicaZartler  ...        0.786973  NaN\n",
              "509  cryptononymouseconomist  JessicaZartler  ...        0.786973  NaN\n",
              "\n",
              "[7947 rows x 20 columns]"
            ]
          },
          "metadata": {
            "tags": []
          },
          "execution_count": 6
        }
      ]
    },
    {
      "cell_type": "markdown",
      "metadata": {
        "id": "MDP9QBISZsh7"
      },
      "source": [
        "---\n",
        "\n",
        "# Investigations from octopus🐙"
      ]
    },
    {
      "cell_type": "markdown",
      "metadata": {
        "id": "eLnoReyPZsh7"
      },
      "source": [
        "I'm going to do some basic analysis of the parts of the data set that are encoded with words. "
      ]
    },
    {
      "cell_type": "code",
      "metadata": {
        "id": "-i6T8iH9Zsh8"
      },
      "source": [
        "import seaborn as sns #seaborn is my plotting tool of choice"
      ],
      "execution_count": 7,
      "outputs": []
    },
    {
      "cell_type": "code",
      "metadata": {
        "colab": {
          "base_uri": "https://localhost:8080/"
        },
        "id": "qp5zcmQdZsh9",
        "outputId": "ae80038a-6bbb-4da4-e95a-a885f007e89b"
      },
      "source": [
        "receivers.columns"
      ],
      "execution_count": 8,
      "outputs": [
        {
          "output_type": "execute_result",
          "data": {
            "text/plain": [
              "Index(['To', 'From', 'Reason for dishing', 'Unnamed: 3', 'Date', 'Room',\n",
              "       'v1 norm', 'v2 norm', 'v3 norm', 'Avg %', 'IH per Praise',\n",
              "       'IH per person', 'Unnamed: 12', 'v1', 'v2', 'v3', 'period',\n",
              "       'Cred per Praise', 'Cred per person', 'To.1'],\n",
              "      dtype='object')"
            ]
          },
          "metadata": {
            "tags": []
          },
          "execution_count": 8
        }
      ]
    },
    {
      "cell_type": "markdown",
      "metadata": {
        "id": "3y7roqUaZsh-"
      },
      "source": [
        "### Where does praise happen?"
      ]
    },
    {
      "cell_type": "code",
      "metadata": {
        "colab": {
          "base_uri": "https://localhost:8080/",
          "height": 347
        },
        "id": "AdHl3XIZZsh_",
        "outputId": "f750458d-50fd-4d5b-8b3d-2969651970ed"
      },
      "source": [
        "sources = receivers.groupby(\"Unnamed: 3\").count()\n",
        "sources\n",
        "\n",
        "ax = sns.barplot(y = sources.index, x = sources[\"To\"],  order = sources.sort_values(\"To\", ascending = False).index)\n",
        "ax.set(xlabel=\"Count\", ylabel=\"Source\", title = \"Where Praise is Given\")"
      ],
      "execution_count": 9,
      "outputs": [
        {
          "output_type": "execute_result",
          "data": {
            "text/plain": [
              "[Text(0, 0.5, 'Source'),\n",
              " Text(0.5, 0, 'Count'),\n",
              " Text(0.5, 1.0, 'Where Praise is Given')]"
            ]
          },
          "metadata": {
            "tags": []
          },
          "execution_count": 9
        },
        {
          "output_type": "display_data",
          "data": {
            "image/png": "[encoded data removed]",
            "text/plain": [
              "<Figure size 432x288 with 1 Axes>"
            ]
          },
          "metadata": {
            "tags": [],
            "needs_background": "light"
          }
        }
      ]
    },
    {
      "cell_type": "code",
      "metadata": {
        "colab": {
          "base_uri": "https://localhost:8080/",
          "height": 1000
        },
        "id": "gwLwVpzwZsh_",
        "outputId": "0e707f36-2116-4aa3-ea12-092a3221f190"
      },
      "source": [
        "room_sources = receivers.groupby(\"Room\").count()\n",
        "room_sources\n",
        "\n",
        "plt.figure(figsize=(10,8))\n",
        "ax = sns.barplot(y = room_sources.index, x = room_sources[\"To\"],  order = room_sources.sort_values(\"To\",                                                                                                 ascending = False).index)\n",
        "ax.set(xlabel=\"Count\", ylabel=\"Source\", title = \"Where Praise is Given\")"
      ],
      "execution_count": 10,
      "outputs": [
        {
          "output_type": "execute_result",
          "data": {
            "text/plain": [
              "[Text(0, 0.5, 'Source'),\n",
              " Text(0.5, 0, 'Count'),\n",
              " Text(0.5, 1.0, 'Where Praise is Given')]"
            ]
          },
          "metadata": {
            "tags": []
          },
          "execution_count": 10
        },
        {
          "output_type": "stream",
          "text": [
            "/usr/local/lib/python3.7/dist-packages/matplotlib/backends/backend_agg.py:214: RuntimeWarning: Glyph 128591 missing from current font.\n",
            "  font.set_text(s, 0.0, flags=flags)\n",
            "/usr/local/lib/python3.7/dist-packages/matplotlib/backends/backend_agg.py:214: RuntimeWarning: Glyph 128588 missing from current font.\n",
            "  font.set_text(s, 0.0, flags=flags)\n",
            "/usr/local/lib/python3.7/dist-packages/matplotlib/backends/backend_agg.py:214: RuntimeWarning: Glyph 127999 missing from current font.\n",
            "  font.set_text(s, 0.0, flags=flags)\n",
            "/usr/local/lib/python3.7/dist-packages/matplotlib/backends/backend_agg.py:214: RuntimeWarning: Glyph 127760 missing from current font.\n",
            "  font.set_text(s, 0.0, flags=flags)\n",
            "/usr/local/lib/python3.7/dist-packages/matplotlib/backends/backend_agg.py:214: RuntimeWarning: Glyph 127915 missing from current font.\n",
            "  font.set_text(s, 0.0, flags=flags)\n",
            "/usr/local/lib/python3.7/dist-packages/matplotlib/backends/backend_agg.py:214: RuntimeWarning: Glyph 127806 missing from current font.\n",
            "  font.set_text(s, 0.0, flags=flags)\n",
            "/usr/local/lib/python3.7/dist-packages/matplotlib/backends/backend_agg.py:214: RuntimeWarning: Glyph 129514 missing from current font.\n",
            "  font.set_text(s, 0.0, flags=flags)\n",
            "/usr/local/lib/python3.7/dist-packages/matplotlib/backends/backend_agg.py:214: RuntimeWarning: Glyph 127812 missing from current font.\n",
            "  font.set_text(s, 0.0, flags=flags)\n",
            "/usr/local/lib/python3.7/dist-packages/matplotlib/backends/backend_agg.py:214: RuntimeWarning: Glyph 128225 missing from current font.\n",
            "  font.set_text(s, 0.0, flags=flags)\n",
            "/usr/local/lib/python3.7/dist-packages/matplotlib/backends/backend_agg.py:214: RuntimeWarning: Glyph 128300 missing from current font.\n",
            "  font.set_text(s, 0.0, flags=flags)\n",
            "/usr/local/lib/python3.7/dist-packages/matplotlib/backends/backend_agg.py:214: RuntimeWarning: Glyph 127963 missing from current font.\n",
            "  font.set_text(s, 0.0, flags=flags)\n",
            "/usr/local/lib/python3.7/dist-packages/matplotlib/backends/backend_agg.py:214: RuntimeWarning: Glyph 129302 missing from current font.\n",
            "  font.set_text(s, 0.0, flags=flags)\n",
            "/usr/local/lib/python3.7/dist-packages/matplotlib/backends/backend_agg.py:214: RuntimeWarning: Glyph 127889 missing from current font.\n",
            "  font.set_text(s, 0.0, flags=flags)\n",
            "/usr/local/lib/python3.7/dist-packages/matplotlib/backends/backend_agg.py:214: RuntimeWarning: Glyph 127807 missing from current font.\n",
            "  font.set_text(s, 0.0, flags=flags)\n",
            "/usr/local/lib/python3.7/dist-packages/matplotlib/backends/backend_agg.py:214: RuntimeWarning: Glyph 127997 missing from current font.\n",
            "  font.set_text(s, 0.0, flags=flags)\n",
            "/usr/local/lib/python3.7/dist-packages/matplotlib/backends/backend_agg.py:214: RuntimeWarning: Glyph 129370 missing from current font.\n",
            "  font.set_text(s, 0.0, flags=flags)\n",
            "/usr/local/lib/python3.7/dist-packages/matplotlib/backends/backend_agg.py:214: RuntimeWarning: Glyph 127903 missing from current font.\n",
            "  font.set_text(s, 0.0, flags=flags)\n",
            "/usr/local/lib/python3.7/dist-packages/matplotlib/backends/backend_agg.py:214: RuntimeWarning: Glyph 127955 missing from current font.\n",
            "  font.set_text(s, 0.0, flags=flags)\n",
            "/usr/local/lib/python3.7/dist-packages/matplotlib/backends/backend_agg.py:214: RuntimeWarning: Glyph 127917 missing from current font.\n",
            "  font.set_text(s, 0.0, flags=flags)\n",
            "/usr/local/lib/python3.7/dist-packages/matplotlib/backends/backend_agg.py:183: RuntimeWarning: Glyph 128591 missing from current font.\n",
            "  font.set_text(s, 0, flags=flags)\n",
            "/usr/local/lib/python3.7/dist-packages/matplotlib/backends/backend_agg.py:183: RuntimeWarning: Glyph 128588 missing from current font.\n",
            "  font.set_text(s, 0, flags=flags)\n",
            "/usr/local/lib/python3.7/dist-packages/matplotlib/backends/backend_agg.py:183: RuntimeWarning: Glyph 127999 missing from current font.\n",
            "  font.set_text(s, 0, flags=flags)\n",
            "/usr/local/lib/python3.7/dist-packages/matplotlib/backends/backend_agg.py:183: RuntimeWarning: Glyph 127760 missing from current font.\n",
            "  font.set_text(s, 0, flags=flags)\n",
            "/usr/local/lib/python3.7/dist-packages/matplotlib/backends/backend_agg.py:183: RuntimeWarning: Glyph 127915 missing from current font.\n",
            "  font.set_text(s, 0, flags=flags)\n",
            "/usr/local/lib/python3.7/dist-packages/matplotlib/backends/backend_agg.py:183: RuntimeWarning: Glyph 127806 missing from current font.\n",
            "  font.set_text(s, 0, flags=flags)\n",
            "/usr/local/lib/python3.7/dist-packages/matplotlib/backends/backend_agg.py:183: RuntimeWarning: Glyph 129514 missing from current font.\n",
            "  font.set_text(s, 0, flags=flags)\n",
            "/usr/local/lib/python3.7/dist-packages/matplotlib/backends/backend_agg.py:183: RuntimeWarning: Glyph 127812 missing from current font.\n",
            "  font.set_text(s, 0, flags=flags)\n",
            "/usr/local/lib/python3.7/dist-packages/matplotlib/backends/backend_agg.py:183: RuntimeWarning: Glyph 128225 missing from current font.\n",
            "  font.set_text(s, 0, flags=flags)\n",
            "/usr/local/lib/python3.7/dist-packages/matplotlib/backends/backend_agg.py:183: RuntimeWarning: Glyph 128300 missing from current font.\n",
            "  font.set_text(s, 0, flags=flags)\n",
            "/usr/local/lib/python3.7/dist-packages/matplotlib/backends/backend_agg.py:183: RuntimeWarning: Glyph 127963 missing from current font.\n",
            "  font.set_text(s, 0, flags=flags)\n",
            "/usr/local/lib/python3.7/dist-packages/matplotlib/backends/backend_agg.py:183: RuntimeWarning: Glyph 129302 missing from current font.\n",
            "  font.set_text(s, 0, flags=flags)\n",
            "/usr/local/lib/python3.7/dist-packages/matplotlib/backends/backend_agg.py:183: RuntimeWarning: Glyph 127889 missing from current font.\n",
            "  font.set_text(s, 0, flags=flags)\n",
            "/usr/local/lib/python3.7/dist-packages/matplotlib/backends/backend_agg.py:183: RuntimeWarning: Glyph 127807 missing from current font.\n",
            "  font.set_text(s, 0, flags=flags)\n",
            "/usr/local/lib/python3.7/dist-packages/matplotlib/backends/backend_agg.py:183: RuntimeWarning: Glyph 127997 missing from current font.\n",
            "  font.set_text(s, 0, flags=flags)\n",
            "/usr/local/lib/python3.7/dist-packages/matplotlib/backends/backend_agg.py:183: RuntimeWarning: Glyph 129370 missing from current font.\n",
            "  font.set_text(s, 0, flags=flags)\n",
            "/usr/local/lib/python3.7/dist-packages/matplotlib/backends/backend_agg.py:183: RuntimeWarning: Glyph 127903 missing from current font.\n",
            "  font.set_text(s, 0, flags=flags)\n",
            "/usr/local/lib/python3.7/dist-packages/matplotlib/backends/backend_agg.py:183: RuntimeWarning: Glyph 127955 missing from current font.\n",
            "  font.set_text(s, 0, flags=flags)\n",
            "/usr/local/lib/python3.7/dist-packages/matplotlib/backends/backend_agg.py:183: RuntimeWarning: Glyph 127917 missing from current font.\n",
            "  font.set_text(s, 0, flags=flags)\n"
          ],
          "name": "stderr"
        },
        {
          "output_type": "display_data",
          "data": {
            "image/png": "[encoded data removed]",
            "text/plain": [
              "<Figure size 720x576 with 1 Axes>"
            ]
          },
          "metadata": {
            "tags": [],
            "needs_background": "light"
          }
        }
      ]
    },
    {
      "cell_type": "markdown",
      "metadata": {
        "id": "TDmr4nAdZsiA"
      },
      "source": [
        "### Do some basic cleaning and analysis. "
      ]
    },
    {
      "cell_type": "markdown",
      "metadata": {
        "id": "vPubSSyMZsiA"
      },
      "source": [
        "Now I'm going to create a new data frame that incorporates how many times each user gave and received praise. The next few cells accomplish this by using pivot_tables to create data frames which are then merged, with missing values replaced by 0."
      ]
    },
    {
      "cell_type": "code",
      "metadata": {
        "colab": {
          "base_uri": "https://localhost:8080/",
          "height": 455
        },
        "id": "YQrmNnd9ZsiB",
        "outputId": "5633cf38-4cf7-4214-a1d0-3d869e8b7d64"
      },
      "source": [
        "praise_to = receivers.pivot_table(index = [\"To\"], aggfunc = 'size' ).to_frame(name = \"to\")\n",
        "praise_to"
      ],
      "execution_count": 11,
      "outputs": [
        {
          "output_type": "execute_result",
          "data": {
            "text/html": [
              "<div>\n",
              "<style scoped>\n",
              "    .dataframe tbody tr th:only-of-type {\n",
              "        vertical-align: middle;\n",
              "    }\n",
              "\n",
              "    .dataframe tbody tr th {\n",
              "        vertical-align: top;\n",
              "    }\n",
              "\n",
              "    .dataframe thead th {\n",
              "        text-align: right;\n",
              "    }\n",
              "</style>\n",
              "<table border=\"1\" class=\"dataframe\">\n",
              "  <thead>\n",
              "    <tr style=\"text-align: right;\">\n",
              "      <th></th>\n",
              "      <th>to</th>\n",
              "    </tr>\n",
              "    <tr>\n",
              "      <th>To</th>\n",
              "      <th></th>\n",
              "    </tr>\n",
              "  </thead>\n",
              "  <tbody>\n",
              "    <tr>\n",
              "      <th>0xJoshua#0888</th>\n",
              "      <td>1</td>\n",
              "    </tr>\n",
              "    <tr>\n",
              "      <th>@James | NEAR#0357</th>\n",
              "      <td>1</td>\n",
              "    </tr>\n",
              "    <tr>\n",
              "      <th>@MehighCB#4516</th>\n",
              "      <td>1</td>\n",
              "    </tr>\n",
              "    <tr>\n",
              "      <th>@PaulaBerman#9915</th>\n",
              "      <td>1</td>\n",
              "    </tr>\n",
              "    <tr>\n",
              "      <th>@Vyvy-vi#5040</th>\n",
              "      <td>6</td>\n",
              "    </tr>\n",
              "    <tr>\n",
              "      <th>...</th>\n",
              "      <td>...</td>\n",
              "    </tr>\n",
              "    <tr>\n",
              "      <th>youngkidwarrior</th>\n",
              "      <td>1</td>\n",
              "    </tr>\n",
              "    <tr>\n",
              "      <th>zeptimusQ</th>\n",
              "      <td>192</td>\n",
              "    </tr>\n",
              "    <tr>\n",
              "      <th>zeptimusq</th>\n",
              "      <td>188</td>\n",
              "    </tr>\n",
              "    <tr>\n",
              "      <th>zeroknowledge#8287</th>\n",
              "      <td>1</td>\n",
              "    </tr>\n",
              "    <tr>\n",
              "      <th>🐙 octopus#5508</th>\n",
              "      <td>4</td>\n",
              "    </tr>\n",
              "  </tbody>\n",
              "</table>\n",
              "<p>390 rows × 1 columns</p>\n",
              "</div>"
            ],
            "text/plain": [
              "                     to\n",
              "To                     \n",
              "0xJoshua#0888         1\n",
              "@James | NEAR#0357    1\n",
              "@MehighCB#4516        1\n",
              "@PaulaBerman#9915     1\n",
              "@Vyvy-vi#5040         6\n",
              "...                 ...\n",
              "youngkidwarrior       1\n",
              "zeptimusQ           192\n",
              "zeptimusq           188\n",
              "zeroknowledge#8287    1\n",
              "🐙 octopus#5508        4\n",
              "\n",
              "[390 rows x 1 columns]"
            ]
          },
          "metadata": {
            "tags": []
          },
          "execution_count": 11
        }
      ]
    },
    {
      "cell_type": "code",
      "metadata": {
        "colab": {
          "base_uri": "https://localhost:8080/",
          "height": 455
        },
        "id": "EiAhWU4_ZsiB",
        "outputId": "88494370-0cef-4d73-fa40-8616e5bb1ae8"
      },
      "source": [
        "praise_from = receivers.pivot_table(index = [\"From\"], aggfunc = 'size').to_frame(name = \"from\")\n",
        "praise_from"
      ],
      "execution_count": 12,
      "outputs": [
        {
          "output_type": "execute_result",
          "data": {
            "text/html": [
              "<div>\n",
              "<style scoped>\n",
              "    .dataframe tbody tr th:only-of-type {\n",
              "        vertical-align: middle;\n",
              "    }\n",
              "\n",
              "    .dataframe tbody tr th {\n",
              "        vertical-align: top;\n",
              "    }\n",
              "\n",
              "    .dataframe thead th {\n",
              "        text-align: right;\n",
              "    }\n",
              "</style>\n",
              "<table border=\"1\" class=\"dataframe\">\n",
              "  <thead>\n",
              "    <tr style=\"text-align: right;\">\n",
              "      <th></th>\n",
              "      <th>from</th>\n",
              "    </tr>\n",
              "    <tr>\n",
              "      <th>From</th>\n",
              "      <th></th>\n",
              "    </tr>\n",
              "  </thead>\n",
              "  <tbody>\n",
              "    <tr>\n",
              "      <th>AmwFund</th>\n",
              "      <td>2</td>\n",
              "    </tr>\n",
              "    <tr>\n",
              "      <th>AmwFund#0979</th>\n",
              "      <td>13</td>\n",
              "    </tr>\n",
              "    <tr>\n",
              "      <th>AnnaMarieSwan#8824</th>\n",
              "      <td>10</td>\n",
              "    </tr>\n",
              "    <tr>\n",
              "      <th>Anthonyoliai</th>\n",
              "      <td>2</td>\n",
              "    </tr>\n",
              "    <tr>\n",
              "      <th>Caeser (PST)#0046</th>\n",
              "      <td>5</td>\n",
              "    </tr>\n",
              "    <tr>\n",
              "      <th>...</th>\n",
              "      <td>...</td>\n",
              "    </tr>\n",
              "    <tr>\n",
              "      <th>vivszaid</th>\n",
              "      <td>4</td>\n",
              "    </tr>\n",
              "    <tr>\n",
              "      <th>xgabi</th>\n",
              "      <td>2</td>\n",
              "    </tr>\n",
              "    <tr>\n",
              "      <th>ygg_anderson</th>\n",
              "      <td>1</td>\n",
              "    </tr>\n",
              "    <tr>\n",
              "      <th>ygg_anderson#4998</th>\n",
              "      <td>11</td>\n",
              "    </tr>\n",
              "    <tr>\n",
              "      <th>zeptimusQ</th>\n",
              "      <td>143</td>\n",
              "    </tr>\n",
              "  </tbody>\n",
              "</table>\n",
              "<p>89 rows × 1 columns</p>\n",
              "</div>"
            ],
            "text/plain": [
              "                    from\n",
              "From                    \n",
              "AmwFund                2\n",
              "AmwFund#0979          13\n",
              "AnnaMarieSwan#8824    10\n",
              "Anthonyoliai           2\n",
              "Caeser (PST)#0046      5\n",
              "...                  ...\n",
              "vivszaid               4\n",
              "xgabi                  2\n",
              "ygg_anderson           1\n",
              "ygg_anderson#4998     11\n",
              "zeptimusQ            143\n",
              "\n",
              "[89 rows x 1 columns]"
            ]
          },
          "metadata": {
            "tags": []
          },
          "execution_count": 12
        }
      ]
    },
    {
      "cell_type": "code",
      "metadata": {
        "colab": {
          "base_uri": "https://localhost:8080/",
          "height": 206
        },
        "id": "-7F5n3sxZsiC",
        "outputId": "90be9dd7-374d-4a30-fa3c-1e108c40be42"
      },
      "source": [
        "praise_to_and_from = pd.concat([praise_from, praise_to], axis = 1)\n",
        "praise_to_and_from = praise_to_and_from.fillna(0)\n",
        "praise_to_and_from.head(5)"
      ],
      "execution_count": 13,
      "outputs": [
        {
          "output_type": "execute_result",
          "data": {
            "text/html": [
              "<div>\n",
              "<style scoped>\n",
              "    .dataframe tbody tr th:only-of-type {\n",
              "        vertical-align: middle;\n",
              "    }\n",
              "\n",
              "    .dataframe tbody tr th {\n",
              "        vertical-align: top;\n",
              "    }\n",
              "\n",
              "    .dataframe thead th {\n",
              "        text-align: right;\n",
              "    }\n",
              "</style>\n",
              "<table border=\"1\" class=\"dataframe\">\n",
              "  <thead>\n",
              "    <tr style=\"text-align: right;\">\n",
              "      <th></th>\n",
              "      <th>from</th>\n",
              "      <th>to</th>\n",
              "    </tr>\n",
              "  </thead>\n",
              "  <tbody>\n",
              "    <tr>\n",
              "      <th>AmwFund</th>\n",
              "      <td>2.0</td>\n",
              "      <td>0.0</td>\n",
              "    </tr>\n",
              "    <tr>\n",
              "      <th>AmwFund#0979</th>\n",
              "      <td>13.0</td>\n",
              "      <td>0.0</td>\n",
              "    </tr>\n",
              "    <tr>\n",
              "      <th>AnnaMarieSwan#8824</th>\n",
              "      <td>10.0</td>\n",
              "      <td>28.0</td>\n",
              "    </tr>\n",
              "    <tr>\n",
              "      <th>Anthonyoliai</th>\n",
              "      <td>2.0</td>\n",
              "      <td>0.0</td>\n",
              "    </tr>\n",
              "    <tr>\n",
              "      <th>Caeser (PST)#0046</th>\n",
              "      <td>5.0</td>\n",
              "      <td>0.0</td>\n",
              "    </tr>\n",
              "  </tbody>\n",
              "</table>\n",
              "</div>"
            ],
            "text/plain": [
              "                    from    to\n",
              "AmwFund              2.0   0.0\n",
              "AmwFund#0979        13.0   0.0\n",
              "AnnaMarieSwan#8824  10.0  28.0\n",
              "Anthonyoliai         2.0   0.0\n",
              "Caeser (PST)#0046    5.0   0.0"
            ]
          },
          "metadata": {
            "tags": []
          },
          "execution_count": 13
        }
      ]
    },
    {
      "cell_type": "markdown",
      "metadata": {
        "id": "1wbhPzxIZsiD"
      },
      "source": [
        "### A naming issue in our data "
      ]
    },
    {
      "cell_type": "markdown",
      "metadata": {
        "id": "ZVNOm5MHZsiD"
      },
      "source": [
        "So now we have **praise_to_and_from** as a data frame where each row is a user, and we see how many times they gave oraise (measured in **from**) and received praise (measured in **to**). \n",
        "\n",
        "There is a **naming** issue that should be addressed at some point. Look below. \n"
      ]
    },
    {
      "cell_type": "code",
      "metadata": {
        "colab": {
          "base_uri": "https://localhost:8080/",
          "height": 112
        },
        "id": "XaEzL0zUZsiD",
        "outputId": "821ab289-7d6d-4938-b093-73e9c59db74c"
      },
      "source": [
        "zep_df = praise_to_and_from.filter(like = \"zep\", axis = 0)\n",
        "zep_df"
      ],
      "execution_count": 14,
      "outputs": [
        {
          "output_type": "execute_result",
          "data": {
            "text/html": [
              "<div>\n",
              "<style scoped>\n",
              "    .dataframe tbody tr th:only-of-type {\n",
              "        vertical-align: middle;\n",
              "    }\n",
              "\n",
              "    .dataframe tbody tr th {\n",
              "        vertical-align: top;\n",
              "    }\n",
              "\n",
              "    .dataframe thead th {\n",
              "        text-align: right;\n",
              "    }\n",
              "</style>\n",
              "<table border=\"1\" class=\"dataframe\">\n",
              "  <thead>\n",
              "    <tr style=\"text-align: right;\">\n",
              "      <th></th>\n",
              "      <th>from</th>\n",
              "      <th>to</th>\n",
              "    </tr>\n",
              "  </thead>\n",
              "  <tbody>\n",
              "    <tr>\n",
              "      <th>zeptimusQ</th>\n",
              "      <td>143.0</td>\n",
              "      <td>192.0</td>\n",
              "    </tr>\n",
              "    <tr>\n",
              "      <th>zeptimusq</th>\n",
              "      <td>0.0</td>\n",
              "      <td>188.0</td>\n",
              "    </tr>\n",
              "  </tbody>\n",
              "</table>\n",
              "</div>"
            ],
            "text/plain": [
              "            from     to\n",
              "zeptimusQ  143.0  192.0\n",
              "zeptimusq    0.0  188.0"
            ]
          },
          "metadata": {
            "tags": []
          },
          "execution_count": 14
        }
      ]
    },
    {
      "cell_type": "code",
      "metadata": {
        "colab": {
          "base_uri": "https://localhost:8080/",
          "height": 143
        },
        "id": "EfsczTluZsiE",
        "outputId": "dad87642-e349-4373-e8cc-95e78ec01280"
      },
      "source": [
        "ygg_df = praise_to_and_from.filter(like = \"ygg\", axis = 0)\n",
        "ygg_df"
      ],
      "execution_count": 15,
      "outputs": [
        {
          "output_type": "execute_result",
          "data": {
            "text/html": [
              "<div>\n",
              "<style scoped>\n",
              "    .dataframe tbody tr th:only-of-type {\n",
              "        vertical-align: middle;\n",
              "    }\n",
              "\n",
              "    .dataframe tbody tr th {\n",
              "        vertical-align: top;\n",
              "    }\n",
              "\n",
              "    .dataframe thead th {\n",
              "        text-align: right;\n",
              "    }\n",
              "</style>\n",
              "<table border=\"1\" class=\"dataframe\">\n",
              "  <thead>\n",
              "    <tr style=\"text-align: right;\">\n",
              "      <th></th>\n",
              "      <th>from</th>\n",
              "      <th>to</th>\n",
              "    </tr>\n",
              "  </thead>\n",
              "  <tbody>\n",
              "    <tr>\n",
              "      <th>ygg_anderson</th>\n",
              "      <td>1.0</td>\n",
              "      <td>0.0</td>\n",
              "    </tr>\n",
              "    <tr>\n",
              "      <th>ygg_anderson#4998</th>\n",
              "      <td>11.0</td>\n",
              "      <td>0.0</td>\n",
              "    </tr>\n",
              "    <tr>\n",
              "      <th>ygganderson</th>\n",
              "      <td>0.0</td>\n",
              "      <td>181.0</td>\n",
              "    </tr>\n",
              "  </tbody>\n",
              "</table>\n",
              "</div>"
            ],
            "text/plain": [
              "                   from     to\n",
              "ygg_anderson        1.0    0.0\n",
              "ygg_anderson#4998  11.0    0.0\n",
              "ygganderson         0.0  181.0"
            ]
          },
          "metadata": {
            "tags": []
          },
          "execution_count": 15
        }
      ]
    },
    {
      "cell_type": "markdown",
      "metadata": {
        "id": "ms14V04lZsiE"
      },
      "source": [
        "The issue is that some users receive praise with variations on their names. It would be good to consoliate these users for this analysis. However, this is an issue that's unlikely to affect most users, so we wll come back to it. "
      ]
    },
    {
      "cell_type": "markdown",
      "metadata": {
        "id": "_OwFvsLMZsiE"
      },
      "source": [
        "### Relationship Between Givers and Receivers"
      ]
    },
    {
      "cell_type": "markdown",
      "metadata": {
        "id": "2QFBzjKnZsiF"
      },
      "source": [
        "Let's make a scatterplot to see if we think there is a relationship betwen these two quantities. "
      ]
    },
    {
      "cell_type": "code",
      "metadata": {
        "colab": {
          "base_uri": "https://localhost:8080/",
          "height": 312
        },
        "id": "jV000hvPZsiF",
        "outputId": "7c7e990a-befd-48c7-87a6-f18ccc1292e6"
      },
      "source": [
        "ax = sns.scatterplot(x = \"from\", y = \"to\", data = praise_to_and_from)\n",
        "ax.set(title = \"Praise: To and From\")"
      ],
      "execution_count": 16,
      "outputs": [
        {
          "output_type": "execute_result",
          "data": {
            "text/plain": [
              "[Text(0.5, 1.0, 'Praise: To and From')]"
            ]
          },
          "metadata": {
            "tags": []
          },
          "execution_count": 16
        },
        {
          "output_type": "display_data",
          "data": {
            "image/png": "[encoded data removed]",
            "text/plain": [
              "<Figure size 432x288 with 1 Axes>"
            ]
          },
          "metadata": {
            "tags": [],
            "needs_background": "light"
          }
        }
      ]
    },
    {
      "cell_type": "markdown",
      "metadata": {
        "id": "YeU1tI3RZsiF"
      },
      "source": [
        "There doen't apear to be much of a relationship, primarily because **so many users** have zero values of **from**; this includes many users who are frequent praise recipients but do not give much. This is partially distorted by the naming issues above. "
      ]
    },
    {
      "cell_type": "code",
      "metadata": {
        "colab": {
          "base_uri": "https://localhost:8080/",
          "height": 296
        },
        "id": "MeAOU2YhZsiF",
        "outputId": "09cf2b35-e3ba-4531-f30e-839d306451f7"
      },
      "source": [
        "sns.histplot(data = praise_to_and_from, x = \"to\")"
      ],
      "execution_count": 17,
      "outputs": [
        {
          "output_type": "execute_result",
          "data": {
            "text/plain": [
              "<matplotlib.axes._subplots.AxesSubplot at 0x7f7eabee3690>"
            ]
          },
          "metadata": {
            "tags": []
          },
          "execution_count": 17
        },
        {
          "output_type": "display_data",
          "data": {
            "image/png": "[encoded data removed]",
            "text/plain": [
              "<Figure size 432x288 with 1 Axes>"
            ]
          },
          "metadata": {
            "tags": [],
            "needs_background": "light"
          }
        }
      ]
    },
    {
      "cell_type": "code",
      "metadata": {
        "colab": {
          "base_uri": "https://localhost:8080/",
          "height": 296
        },
        "id": "yWvXnKNHZsiG",
        "outputId": "eb7db9fe-e06f-4f5d-c970-aa5f5407872b"
      },
      "source": [
        "sns.histplot(data = praise_to_and_from.query(\"to > 0\"), x = \"to\")"
      ],
      "execution_count": 18,
      "outputs": [
        {
          "output_type": "execute_result",
          "data": {
            "text/plain": [
              "<matplotlib.axes._subplots.AxesSubplot at 0x7f7e9d4a5a90>"
            ]
          },
          "metadata": {
            "tags": []
          },
          "execution_count": 18
        },
        {
          "output_type": "display_data",
          "data": {
            "image/png": "[encoded data removed]",
            "text/plain": [
              "<Figure size 432x288 with 1 Axes>"
            ]
          },
          "metadata": {
            "tags": [],
            "needs_background": "light"
          }
        }
      ]
    },
    {
      "cell_type": "code",
      "metadata": {
        "colab": {
          "base_uri": "https://localhost:8080/"
        },
        "id": "stNvVUiKZsiG",
        "outputId": "56aeb4ec-08e4-4d96-eb44-a79fff2bf73a"
      },
      "source": [
        "sum(praise_to_and_from[\"to\"] <= 1)/len(praise_to_and_from)"
      ],
      "execution_count": 19,
      "outputs": [
        {
          "output_type": "execute_result",
          "data": {
            "text/plain": [
              "0.3579676674364896"
            ]
          },
          "metadata": {
            "tags": []
          },
          "execution_count": 19
        }
      ]
    },
    {
      "cell_type": "code",
      "metadata": {
        "colab": {
          "base_uri": "https://localhost:8080/"
        },
        "id": "Ru-TwXYUZsiG",
        "outputId": "ce08ce7b-3ac4-4a8d-ddb9-a3b04d16a950"
      },
      "source": [
        "praise_to_and_from[\"from\"] == 0"
      ],
      "execution_count": 20,
      "outputs": [
        {
          "output_type": "execute_result",
          "data": {
            "text/plain": [
              "AmwFund               False\n",
              "AmwFund#0979          False\n",
              "AnnaMarieSwan#8824    False\n",
              "Anthonyoliai          False\n",
              "Caeser (PST)#0046     False\n",
              "                      ...  \n",
              "ygganderson            True\n",
              "youngkidwarrior        True\n",
              "zeptimusq              True\n",
              "zeroknowledge#8287     True\n",
              "🐙 octopus#5508         True\n",
              "Name: from, Length: 433, dtype: bool"
            ]
          },
          "metadata": {
            "tags": []
          },
          "execution_count": 20
        }
      ]
    },
    {
      "cell_type": "code",
      "metadata": {
        "colab": {
          "base_uri": "https://localhost:8080/"
        },
        "id": "GqMUyeUJZsiG",
        "outputId": "5414da8e-ecea-4b3b-ceb6-d1c4975fdf93"
      },
      "source": [
        "sum(praise_to_and_from[\"from\"] == 0)/len(praise_to_and_from)"
      ],
      "execution_count": 21,
      "outputs": [
        {
          "output_type": "execute_result",
          "data": {
            "text/plain": [
              "0.7944572748267898"
            ]
          },
          "metadata": {
            "tags": []
          },
          "execution_count": 21
        }
      ]
    },
    {
      "cell_type": "code",
      "metadata": {
        "colab": {
          "base_uri": "https://localhost:8080/"
        },
        "id": "eqINIyY7ZsiH",
        "outputId": "02362e21-849c-4e1a-baca-5b9d1b53edf2"
      },
      "source": [
        "praise_to_and_from[praise_to_and_from[\"from\"] > 0][\"from\"].mean()"
      ],
      "execution_count": 22,
      "outputs": [
        {
          "output_type": "execute_result",
          "data": {
            "text/plain": [
              "89.28089887640449"
            ]
          },
          "metadata": {
            "tags": []
          },
          "execution_count": 22
        }
      ]
    },
    {
      "cell_type": "markdown",
      "metadata": {
        "id": "ZLLhfvHXZsiH"
      },
      "source": [
        "Almost 80% of users here have not given any praise (this might be skewed *slightly* by the naming issue above, but probably not much). This is probably described by a Pareto distribution -- with 20% of the users giving 100% of the praise. Among users who gave some praise, they gave an average of roughly 90 praises."
      ]
    },
    {
      "cell_type": "code",
      "metadata": {
        "colab": {
          "base_uri": "https://localhost:8080/",
          "height": 300
        },
        "id": "JJdRvKKpZsiH",
        "outputId": "17c48f50-1988-40fb-dda5-2d96f829a4b0"
      },
      "source": [
        "praise_to_and_from.describe()"
      ],
      "execution_count": 23,
      "outputs": [
        {
          "output_type": "execute_result",
          "data": {
            "text/html": [
              "<div>\n",
              "<style scoped>\n",
              "    .dataframe tbody tr th:only-of-type {\n",
              "        vertical-align: middle;\n",
              "    }\n",
              "\n",
              "    .dataframe tbody tr th {\n",
              "        vertical-align: top;\n",
              "    }\n",
              "\n",
              "    .dataframe thead th {\n",
              "        text-align: right;\n",
              "    }\n",
              "</style>\n",
              "<table border=\"1\" class=\"dataframe\">\n",
              "  <thead>\n",
              "    <tr style=\"text-align: right;\">\n",
              "      <th></th>\n",
              "      <th>from</th>\n",
              "      <th>to</th>\n",
              "    </tr>\n",
              "  </thead>\n",
              "  <tbody>\n",
              "    <tr>\n",
              "      <th>count</th>\n",
              "      <td>433.000000</td>\n",
              "      <td>433.000000</td>\n",
              "    </tr>\n",
              "    <tr>\n",
              "      <th>mean</th>\n",
              "      <td>18.351039</td>\n",
              "      <td>18.351039</td>\n",
              "    </tr>\n",
              "    <tr>\n",
              "      <th>std</th>\n",
              "      <td>125.239573</td>\n",
              "      <td>47.083423</td>\n",
              "    </tr>\n",
              "    <tr>\n",
              "      <th>min</th>\n",
              "      <td>0.000000</td>\n",
              "      <td>0.000000</td>\n",
              "    </tr>\n",
              "    <tr>\n",
              "      <th>25%</th>\n",
              "      <td>0.000000</td>\n",
              "      <td>1.000000</td>\n",
              "    </tr>\n",
              "    <tr>\n",
              "      <th>50%</th>\n",
              "      <td>0.000000</td>\n",
              "      <td>2.000000</td>\n",
              "    </tr>\n",
              "    <tr>\n",
              "      <th>75%</th>\n",
              "      <td>0.000000</td>\n",
              "      <td>9.000000</td>\n",
              "    </tr>\n",
              "    <tr>\n",
              "      <th>max</th>\n",
              "      <td>2101.000000</td>\n",
              "      <td>396.000000</td>\n",
              "    </tr>\n",
              "  </tbody>\n",
              "</table>\n",
              "</div>"
            ],
            "text/plain": [
              "              from          to\n",
              "count   433.000000  433.000000\n",
              "mean     18.351039   18.351039\n",
              "std     125.239573   47.083423\n",
              "min       0.000000    0.000000\n",
              "25%       0.000000    1.000000\n",
              "50%       0.000000    2.000000\n",
              "75%       0.000000    9.000000\n",
              "max    2101.000000  396.000000"
            ]
          },
          "metadata": {
            "tags": []
          },
          "execution_count": 23
        }
      ]
    },
    {
      "cell_type": "code",
      "metadata": {
        "colab": {
          "base_uri": "https://localhost:8080/",
          "height": 424
        },
        "id": "NC1KjhhgZsiI",
        "outputId": "7e0bdecb-fbd2-4e86-fd69-ac44359b4af2"
      },
      "source": [
        "praise_to_and_from[\"generosity\"] = praise_to_and_from[\"from\"]/(praise_to_and_from[\"to\"] + 1)\n",
        "praise_to_and_from"
      ],
      "execution_count": 24,
      "outputs": [
        {
          "output_type": "execute_result",
          "data": {
            "text/html": [
              "<div>\n",
              "<style scoped>\n",
              "    .dataframe tbody tr th:only-of-type {\n",
              "        vertical-align: middle;\n",
              "    }\n",
              "\n",
              "    .dataframe tbody tr th {\n",
              "        vertical-align: top;\n",
              "    }\n",
              "\n",
              "    .dataframe thead th {\n",
              "        text-align: right;\n",
              "    }\n",
              "</style>\n",
              "<table border=\"1\" class=\"dataframe\">\n",
              "  <thead>\n",
              "    <tr style=\"text-align: right;\">\n",
              "      <th></th>\n",
              "      <th>from</th>\n",
              "      <th>to</th>\n",
              "      <th>generosity</th>\n",
              "    </tr>\n",
              "  </thead>\n",
              "  <tbody>\n",
              "    <tr>\n",
              "      <th>AmwFund</th>\n",
              "      <td>2.0</td>\n",
              "      <td>0.0</td>\n",
              "      <td>2.000000</td>\n",
              "    </tr>\n",
              "    <tr>\n",
              "      <th>AmwFund#0979</th>\n",
              "      <td>13.0</td>\n",
              "      <td>0.0</td>\n",
              "      <td>13.000000</td>\n",
              "    </tr>\n",
              "    <tr>\n",
              "      <th>AnnaMarieSwan#8824</th>\n",
              "      <td>10.0</td>\n",
              "      <td>28.0</td>\n",
              "      <td>0.344828</td>\n",
              "    </tr>\n",
              "    <tr>\n",
              "      <th>Anthonyoliai</th>\n",
              "      <td>2.0</td>\n",
              "      <td>0.0</td>\n",
              "      <td>2.000000</td>\n",
              "    </tr>\n",
              "    <tr>\n",
              "      <th>Caeser (PST)#0046</th>\n",
              "      <td>5.0</td>\n",
              "      <td>0.0</td>\n",
              "      <td>5.000000</td>\n",
              "    </tr>\n",
              "    <tr>\n",
              "      <th>...</th>\n",
              "      <td>...</td>\n",
              "      <td>...</td>\n",
              "      <td>...</td>\n",
              "    </tr>\n",
              "    <tr>\n",
              "      <th>ygganderson</th>\n",
              "      <td>0.0</td>\n",
              "      <td>181.0</td>\n",
              "      <td>0.000000</td>\n",
              "    </tr>\n",
              "    <tr>\n",
              "      <th>youngkidwarrior</th>\n",
              "      <td>0.0</td>\n",
              "      <td>1.0</td>\n",
              "      <td>0.000000</td>\n",
              "    </tr>\n",
              "    <tr>\n",
              "      <th>zeptimusq</th>\n",
              "      <td>0.0</td>\n",
              "      <td>188.0</td>\n",
              "      <td>0.000000</td>\n",
              "    </tr>\n",
              "    <tr>\n",
              "      <th>zeroknowledge#8287</th>\n",
              "      <td>0.0</td>\n",
              "      <td>1.0</td>\n",
              "      <td>0.000000</td>\n",
              "    </tr>\n",
              "    <tr>\n",
              "      <th>🐙 octopus#5508</th>\n",
              "      <td>0.0</td>\n",
              "      <td>4.0</td>\n",
              "      <td>0.000000</td>\n",
              "    </tr>\n",
              "  </tbody>\n",
              "</table>\n",
              "<p>433 rows × 3 columns</p>\n",
              "</div>"
            ],
            "text/plain": [
              "                    from     to  generosity\n",
              "AmwFund              2.0    0.0    2.000000\n",
              "AmwFund#0979        13.0    0.0   13.000000\n",
              "AnnaMarieSwan#8824  10.0   28.0    0.344828\n",
              "Anthonyoliai         2.0    0.0    2.000000\n",
              "Caeser (PST)#0046    5.0    0.0    5.000000\n",
              "...                  ...    ...         ...\n",
              "ygganderson          0.0  181.0    0.000000\n",
              "youngkidwarrior      0.0    1.0    0.000000\n",
              "zeptimusq            0.0  188.0    0.000000\n",
              "zeroknowledge#8287   0.0    1.0    0.000000\n",
              "🐙 octopus#5508       0.0    4.0    0.000000\n",
              "\n",
              "[433 rows x 3 columns]"
            ]
          },
          "metadata": {
            "tags": []
          },
          "execution_count": 24
        }
      ]
    },
    {
      "cell_type": "code",
      "metadata": {
        "colab": {
          "base_uri": "https://localhost:8080/",
          "height": 1000
        },
        "id": "iasnUbgRZsiI",
        "outputId": "75775346-b0f1-436f-d369-e1d6695e79f7"
      },
      "source": [
        "praise_to_and_from.query(\"generosity > 0\").query(\"generosity < 1\")"
      ],
      "execution_count": 25,
      "outputs": [
        {
          "output_type": "execute_result",
          "data": {
            "text/html": [
              "<div>\n",
              "<style scoped>\n",
              "    .dataframe tbody tr th:only-of-type {\n",
              "        vertical-align: middle;\n",
              "    }\n",
              "\n",
              "    .dataframe tbody tr th {\n",
              "        vertical-align: top;\n",
              "    }\n",
              "\n",
              "    .dataframe thead th {\n",
              "        text-align: right;\n",
              "    }\n",
              "</style>\n",
              "<table border=\"1\" class=\"dataframe\">\n",
              "  <thead>\n",
              "    <tr style=\"text-align: right;\">\n",
              "      <th></th>\n",
              "      <th>from</th>\n",
              "      <th>to</th>\n",
              "      <th>generosity</th>\n",
              "    </tr>\n",
              "  </thead>\n",
              "  <tbody>\n",
              "    <tr>\n",
              "      <th>AnnaMarieSwan#8824</th>\n",
              "      <td>10.0</td>\n",
              "      <td>28.0</td>\n",
              "      <td>0.344828</td>\n",
              "    </tr>\n",
              "    <tr>\n",
              "      <th>Laurenluz</th>\n",
              "      <td>5.0</td>\n",
              "      <td>90.0</td>\n",
              "      <td>0.054945</td>\n",
              "    </tr>\n",
              "    <tr>\n",
              "      <th>Letty#5399</th>\n",
              "      <td>5.0</td>\n",
              "      <td>18.0</td>\n",
              "      <td>0.263158</td>\n",
              "    </tr>\n",
              "    <tr>\n",
              "      <th>MerlinEgalite</th>\n",
              "      <td>4.0</td>\n",
              "      <td>34.0</td>\n",
              "      <td>0.114286</td>\n",
              "    </tr>\n",
              "    <tr>\n",
              "      <th>Mettodo#7010</th>\n",
              "      <td>2.0</td>\n",
              "      <td>2.0</td>\n",
              "      <td>0.666667</td>\n",
              "    </tr>\n",
              "    <tr>\n",
              "      <th>Santigs67</th>\n",
              "      <td>38.0</td>\n",
              "      <td>100.0</td>\n",
              "      <td>0.376238</td>\n",
              "    </tr>\n",
              "    <tr>\n",
              "      <th>Suga#8514</th>\n",
              "      <td>18.0</td>\n",
              "      <td>52.0</td>\n",
              "      <td>0.339623</td>\n",
              "    </tr>\n",
              "    <tr>\n",
              "      <th>Tam2140</th>\n",
              "      <td>73.0</td>\n",
              "      <td>160.0</td>\n",
              "      <td>0.453416</td>\n",
              "    </tr>\n",
              "    <tr>\n",
              "      <th>TannrA</th>\n",
              "      <td>3.0</td>\n",
              "      <td>7.0</td>\n",
              "      <td>0.375000</td>\n",
              "    </tr>\n",
              "    <tr>\n",
              "      <th>Vyvy-vi#5040</th>\n",
              "      <td>31.0</td>\n",
              "      <td>79.0</td>\n",
              "      <td>0.387500</td>\n",
              "    </tr>\n",
              "    <tr>\n",
              "      <th>adnfx2#9648</th>\n",
              "      <td>2.0</td>\n",
              "      <td>4.0</td>\n",
              "      <td>0.400000</td>\n",
              "    </tr>\n",
              "    <tr>\n",
              "      <th>akrtws</th>\n",
              "      <td>5.0</td>\n",
              "      <td>43.0</td>\n",
              "      <td>0.113636</td>\n",
              "    </tr>\n",
              "    <tr>\n",
              "      <th>chuygarcia92</th>\n",
              "      <td>46.0</td>\n",
              "      <td>167.0</td>\n",
              "      <td>0.273810</td>\n",
              "    </tr>\n",
              "    <tr>\n",
              "      <th>cranders71</th>\n",
              "      <td>165.0</td>\n",
              "      <td>192.0</td>\n",
              "      <td>0.854922</td>\n",
              "    </tr>\n",
              "    <tr>\n",
              "      <th>danibelle</th>\n",
              "      <td>3.0</td>\n",
              "      <td>48.0</td>\n",
              "      <td>0.061224</td>\n",
              "    </tr>\n",
              "    <tr>\n",
              "      <th>danlessa</th>\n",
              "      <td>1.0</td>\n",
              "      <td>21.0</td>\n",
              "      <td>0.045455</td>\n",
              "    </tr>\n",
              "    <tr>\n",
              "      <th>ddan#2489</th>\n",
              "      <td>23.0</td>\n",
              "      <td>38.0</td>\n",
              "      <td>0.589744</td>\n",
              "    </tr>\n",
              "    <tr>\n",
              "      <th>decap#9400</th>\n",
              "      <td>1.0</td>\n",
              "      <td>2.0</td>\n",
              "      <td>0.333333</td>\n",
              "    </tr>\n",
              "    <tr>\n",
              "      <th>divine_comedian</th>\n",
              "      <td>2.0</td>\n",
              "      <td>109.0</td>\n",
              "      <td>0.018182</td>\n",
              "    </tr>\n",
              "    <tr>\n",
              "      <th>durgadasji</th>\n",
              "      <td>1.0</td>\n",
              "      <td>116.0</td>\n",
              "      <td>0.008547</td>\n",
              "    </tr>\n",
              "    <tr>\n",
              "      <th>fiorebotta</th>\n",
              "      <td>5.0</td>\n",
              "      <td>34.0</td>\n",
              "      <td>0.142857</td>\n",
              "    </tr>\n",
              "    <tr>\n",
              "      <th>freedumbs00</th>\n",
              "      <td>87.0</td>\n",
              "      <td>268.0</td>\n",
              "      <td>0.323420</td>\n",
              "    </tr>\n",
              "    <tr>\n",
              "      <th>geleeroyale</th>\n",
              "      <td>1.0</td>\n",
              "      <td>34.0</td>\n",
              "      <td>0.028571</td>\n",
              "    </tr>\n",
              "    <tr>\n",
              "      <th>jeffemmett</th>\n",
              "      <td>34.0</td>\n",
              "      <td>108.0</td>\n",
              "      <td>0.311927</td>\n",
              "    </tr>\n",
              "    <tr>\n",
              "      <th>knobsDAO</th>\n",
              "      <td>8.0</td>\n",
              "      <td>30.0</td>\n",
              "      <td>0.258065</td>\n",
              "    </tr>\n",
              "    <tr>\n",
              "      <th>krrisis</th>\n",
              "      <td>2.0</td>\n",
              "      <td>22.0</td>\n",
              "      <td>0.086957</td>\n",
              "    </tr>\n",
              "    <tr>\n",
              "      <th>markop</th>\n",
              "      <td>38.0</td>\n",
              "      <td>211.0</td>\n",
              "      <td>0.179245</td>\n",
              "    </tr>\n",
              "    <tr>\n",
              "      <th>metaverde</th>\n",
              "      <td>27.0</td>\n",
              "      <td>100.0</td>\n",
              "      <td>0.267327</td>\n",
              "    </tr>\n",
              "    <tr>\n",
              "      <th>paulo_c2d</th>\n",
              "      <td>31.0</td>\n",
              "      <td>120.0</td>\n",
              "      <td>0.256198</td>\n",
              "    </tr>\n",
              "    <tr>\n",
              "      <th>rubenrussel7</th>\n",
              "      <td>3.0</td>\n",
              "      <td>27.0</td>\n",
              "      <td>0.107143</td>\n",
              "    </tr>\n",
              "    <tr>\n",
              "      <th>sembrestels</th>\n",
              "      <td>139.0</td>\n",
              "      <td>267.0</td>\n",
              "      <td>0.518657</td>\n",
              "    </tr>\n",
              "    <tr>\n",
              "      <th>solsista</th>\n",
              "      <td>16.0</td>\n",
              "      <td>86.0</td>\n",
              "      <td>0.183908</td>\n",
              "    </tr>\n",
              "    <tr>\n",
              "      <th>vegayp</th>\n",
              "      <td>1.0</td>\n",
              "      <td>177.0</td>\n",
              "      <td>0.005618</td>\n",
              "    </tr>\n",
              "    <tr>\n",
              "      <th>vivszaid</th>\n",
              "      <td>4.0</td>\n",
              "      <td>28.0</td>\n",
              "      <td>0.137931</td>\n",
              "    </tr>\n",
              "    <tr>\n",
              "      <th>xgabi</th>\n",
              "      <td>2.0</td>\n",
              "      <td>40.0</td>\n",
              "      <td>0.048780</td>\n",
              "    </tr>\n",
              "    <tr>\n",
              "      <th>zeptimusQ</th>\n",
              "      <td>143.0</td>\n",
              "      <td>192.0</td>\n",
              "      <td>0.740933</td>\n",
              "    </tr>\n",
              "  </tbody>\n",
              "</table>\n",
              "</div>"
            ],
            "text/plain": [
              "                     from     to  generosity\n",
              "AnnaMarieSwan#8824   10.0   28.0    0.344828\n",
              "Laurenluz             5.0   90.0    0.054945\n",
              "Letty#5399            5.0   18.0    0.263158\n",
              "MerlinEgalite         4.0   34.0    0.114286\n",
              "Mettodo#7010          2.0    2.0    0.666667\n",
              "Santigs67            38.0  100.0    0.376238\n",
              "Suga#8514            18.0   52.0    0.339623\n",
              "Tam2140              73.0  160.0    0.453416\n",
              "TannrA                3.0    7.0    0.375000\n",
              "Vyvy-vi#5040         31.0   79.0    0.387500\n",
              "adnfx2#9648           2.0    4.0    0.400000\n",
              "akrtws                5.0   43.0    0.113636\n",
              "chuygarcia92         46.0  167.0    0.273810\n",
              "cranders71          165.0  192.0    0.854922\n",
              "danibelle             3.0   48.0    0.061224\n",
              "danlessa              1.0   21.0    0.045455\n",
              "ddan#2489            23.0   38.0    0.589744\n",
              "decap#9400            1.0    2.0    0.333333\n",
              "divine_comedian       2.0  109.0    0.018182\n",
              "durgadasji            1.0  116.0    0.008547\n",
              "fiorebotta            5.0   34.0    0.142857\n",
              "freedumbs00          87.0  268.0    0.323420\n",
              "geleeroyale           1.0   34.0    0.028571\n",
              "jeffemmett           34.0  108.0    0.311927\n",
              "knobsDAO              8.0   30.0    0.258065\n",
              "krrisis               2.0   22.0    0.086957\n",
              "markop               38.0  211.0    0.179245\n",
              "metaverde            27.0  100.0    0.267327\n",
              "paulo_c2d            31.0  120.0    0.256198\n",
              "rubenrussel7          3.0   27.0    0.107143\n",
              "sembrestels         139.0  267.0    0.518657\n",
              "solsista             16.0   86.0    0.183908\n",
              "vegayp                1.0  177.0    0.005618\n",
              "vivszaid              4.0   28.0    0.137931\n",
              "xgabi                 2.0   40.0    0.048780\n",
              "zeptimusQ           143.0  192.0    0.740933"
            ]
          },
          "metadata": {
            "tags": []
          },
          "execution_count": 25
        }
      ]
    },
    {
      "cell_type": "markdown",
      "metadata": {
        "id": "lSXrrVAjZwch"
      },
      "source": [
        "# Investigations from courier"
      ]
    },
    {
      "cell_type": "code",
      "metadata": {
        "id": "sZCNZ69KZ9SY"
      },
      "source": [
        "# Run this cell to install the pygraphviz library\n",
        "#!apt-get install python3-dev graphviz libgraphviz-dev pkg-config\n",
        "#!pip install pygraphviz"
      ],
      "execution_count": 26,
      "outputs": []
    },
    {
      "cell_type": "code",
      "metadata": {
        "id": "pjxsHTQ5adEL"
      },
      "source": [
        "import networkx as nx\n",
        "import pygraphviz"
      ],
      "execution_count": 27,
      "outputs": []
    },
    {
      "cell_type": "markdown",
      "metadata": {
        "id": "fA5kpsv_Z1dD"
      },
      "source": [
        "We will attempt to make a graph from the dataframe. \n",
        "\n",
        "First we will begin with a simple proof of concept. "
      ]
    },
    {
      "cell_type": "code",
      "metadata": {
        "id": "GQVVZhb2Z0It"
      },
      "source": [
        "df = pd.read_csv(\"recievers.csv\")\n",
        "df.head()\n",
        "df.columns\n",
        "G = nx.DiGraph()\n",
        "edges = df[['To','From']]\n",
        "\n",
        "\n",
        "for ind, tup in edges[1:2].iterrows():\n",
        "  to = tup[0]\n",
        "  fro = tup[1]\n",
        "  G.add_edge(fro, to)\n",
        "\n",
        "  \n",
        "G.edges\n",
        "G = nx.nx_agraph.to_agraph(G)"
      ],
      "execution_count": 28,
      "outputs": []
    },
    {
      "cell_type": "code",
      "metadata": {
        "id": "x0H4jKTmZ4hN"
      },
      "source": [
        "G.layout(prog=\"dot\")\n",
        "G.draw(\"file.png\") "
      ],
      "execution_count": 29,
      "outputs": []
    },
    {
      "cell_type": "code",
      "metadata": {
        "colab": {
          "base_uri": "https://localhost:8080/",
          "height": 81
        },
        "id": "gOjWCAw_aHr0",
        "outputId": "270201f4-0779-45ff-ee17-e033b3620e53"
      },
      "source": [
        "edges[1:2]\n"
      ],
      "execution_count": 30,
      "outputs": [
        {
          "output_type": "execute_result",
          "data": {
            "text/html": [
              "<div>\n",
              "<style scoped>\n",
              "    .dataframe tbody tr th:only-of-type {\n",
              "        vertical-align: middle;\n",
              "    }\n",
              "\n",
              "    .dataframe tbody tr th {\n",
              "        vertical-align: top;\n",
              "    }\n",
              "\n",
              "    .dataframe thead th {\n",
              "        text-align: right;\n",
              "    }\n",
              "</style>\n",
              "<table border=\"1\" class=\"dataframe\">\n",
              "  <thead>\n",
              "    <tr style=\"text-align: right;\">\n",
              "      <th></th>\n",
              "      <th>To</th>\n",
              "      <th>From</th>\n",
              "    </tr>\n",
              "  </thead>\n",
              "  <tbody>\n",
              "    <tr>\n",
              "      <th>1</th>\n",
              "      <td>zeptimusQ</td>\n",
              "      <td>iviangita#3204</td>\n",
              "    </tr>\n",
              "  </tbody>\n",
              "</table>\n",
              "</div>"
            ],
            "text/plain": [
              "          To            From\n",
              "1  zeptimusQ  iviangita#3204"
            ]
          },
          "metadata": {
            "tags": []
          },
          "execution_count": 30
        }
      ]
    },
    {
      "cell_type": "markdown",
      "metadata": {
        "id": "6eI7lbalakye"
      },
      "source": [
        "![](https://drive.google.com/uc?export=view&id=1u9YuyqRxjnbXfDNA3ywuxNTI4CPWo54h)"
      ]
    },
    {
      "cell_type": "markdown",
      "metadata": {
        "id": "jYTZWjoBapdg"
      },
      "source": [
        "Now we create a function that will automate this process."
      ]
    },
    {
      "cell_type": "code",
      "metadata": {
        "id": "nVV0opqwaKYG"
      },
      "source": [
        "def viz_graph(df, file_name):\n",
        "  \"\"\"\n",
        "  Creates a visualization of a graph created from a dataset of praise. \n",
        "\n",
        "  :param df: The dataframe that contains who the praise is from and who it is to.\n",
        "  Note that this dataframe should ONLY contain columns To and From.\n",
        "  :param file_name: The name of the image that will be saved to your computer. \n",
        "  \"\"\"\n",
        "\n",
        "  G = nx.DiGraph()\n",
        "\n",
        "  for ind, tup in df.iterrows():\n",
        "    to = tup[0]\n",
        "    fro = tup[1]\n",
        "    G.add_edge(fro, to)\n",
        "\n",
        "  G = nx.nx_agraph.to_agraph(G)\n",
        "  G.layout(prog=\"dot\")\n",
        "  G.draw(file_name) \n",
        "  return G"
      ],
      "execution_count": 31,
      "outputs": []
    },
    {
      "cell_type": "code",
      "metadata": {
        "id": "_fZroOtjaocr"
      },
      "source": [
        "#viz_graph(edges, \"praise_graph.png\")"
      ],
      "execution_count": 32,
      "outputs": []
    },
    {
      "cell_type": "markdown",
      "metadata": {
        "id": "86OzauWqaxi2"
      },
      "source": [
        "You can use boolean conditions to get more specific graphs. "
      ]
    },
    {
      "cell_type": "code",
      "metadata": {
        "id": "f1q04KyZax0s"
      },
      "source": [
        "#viz_graph(edges[edges[\"To\"] == \"zeptimusQ\"], \"zeptimus_praise_graph.png\")"
      ],
      "execution_count": 33,
      "outputs": []
    },
    {
      "cell_type": "code",
      "metadata": {
        "id": "KBUS_WPUazwu"
      },
      "source": [
        "def to_user_graph(df, user, file_name):\n",
        "  \"\"\"\n",
        "  Creates a visualization of a graph created from a dataset of praise. \n",
        "\n",
        "  :param df: The dataframe that contains who the praise is from and who it is to.\n",
        "  Note that this dataframe should ONLY contain columns To and From.\n",
        "  :param user: All donations to this user will be graphed. \n",
        "  :param file_name: The name of the image that will be saved to your computer. \n",
        "  \"\"\"\n",
        "  df = pd.read_csv(\"recievers.csv\")\n",
        "  G = nx.DiGraph()\n",
        "\n",
        "  for ind, tup in edges[edges[\"To\"] == user].iterrows():\n",
        "    to = tup[0]\n",
        "    fro = tup[1]\n",
        "    G.add_edge(fro, to)\n",
        "\n",
        "  G = nx.nx_agraph.to_agraph(G)\n",
        "  G.layout(prog=\"dot\")\n",
        "  G.draw(file_name) \n",
        "  return G"
      ],
      "execution_count": 34,
      "outputs": []
    },
    {
      "cell_type": "code",
      "metadata": {
        "id": "xfGBMZf0a1Sd"
      },
      "source": [
        "def from_user_graph(df, user, file_name):\n",
        "  \"\"\"\n",
        "  Creates a visualization of a graph created from a dataset of praise. \n",
        "\n",
        "  :param df: The dataframe that contains who the praise is from and who it is to.\n",
        "  Note that this dataframe should ONLY contain columns To and From.\n",
        "  :param user: All donations from this user will be graphed. \n",
        "  :param file_name: The name of the image that will be saved to your computer. \n",
        "  \"\"\"\n",
        "  df = pd.read_csv(\"recievers.csv\")\n",
        "  G = nx.DiGraph()\n",
        "\n",
        "  for ind, tup in edges[edges[\"To\"] == user].iterrows():\n",
        "    to = tup[0]\n",
        "    fro = tup[1]\n",
        "    G.add_edge(to, fro)\n",
        "\n",
        "  G = nx.nx_agraph.to_agraph(G)\n",
        "  G.layout(prog=\"dot\")\n",
        "  G.draw(file_name) \n",
        "  return G"
      ],
      "execution_count": 35,
      "outputs": []
    },
    {
      "cell_type": "markdown",
      "metadata": {
        "id": "7Sj6HDoda47h"
      },
      "source": [
        "# You can utilize these 2 forms to create user graphs. The first one will create a graph of donations from the provided user and the second form will graph donations to the provided user."
      ]
    },
    {
      "cell_type": "code",
      "metadata": {
        "colab": {
          "base_uri": "https://localhost:8080/"
        },
        "id": "JqskJ4PEa2fW",
        "outputId": "da1905b6-575c-4840-b1f0-ff477b66e35d"
      },
      "source": [
        "df_str = \"recievers.csv\" #@param {type:\"string\"}\n",
        "user = \"zeptimusQ\" #@param {type:\"string\"}\n",
        "file_name = \"zeptimusQ_to_graph.png\" #@param {type:\"string\"}\n",
        "from_user_graph(df=df_str, user=user,file_name=file_name)"
      ],
      "execution_count": 36,
      "outputs": [
        {
          "output_type": "execute_result",
          "data": {
            "text/plain": [
              "<AGraph <Swig Object of type 'Agraph_t *' at 0x7f7e9ce62e10>>"
            ]
          },
          "metadata": {
            "tags": []
          },
          "execution_count": 36
        }
      ]
    },
    {
      "cell_type": "code",
      "metadata": {
        "colab": {
          "base_uri": "https://localhost:8080/"
        },
        "id": "H-oeMbXOa7ac",
        "outputId": "9b9fd096-8316-43b0-d5a9-4b52fe865afc"
      },
      "source": [
        "df_str = \"recievers.csv\" #@param {type:\"string\"}\n",
        "user = \"recievers.csv\" #@param {type:\"string\"}\n",
        "file_name = \"zeptimusQ_from_graph.png\" #@param {type:\"string\"}\n",
        "to_user_graph(df=df_str, user=user,file_name=file_name)\n"
      ],
      "execution_count": 37,
      "outputs": [
        {
          "output_type": "execute_result",
          "data": {
            "text/plain": [
              "<AGraph <Swig Object of type 'Agraph_t *' at 0x7f7e9ce62180>>"
            ]
          },
          "metadata": {
            "tags": []
          },
          "execution_count": 37
        }
      ]
    },
    {
      "cell_type": "code",
      "metadata": {
        "colab": {
          "base_uri": "https://localhost:8080/"
        },
        "id": "2rxQSUiTa9as",
        "outputId": "755d9d9c-1c25-4110-e27e-dc781069aaa9"
      },
      "source": [
        "df.columns"
      ],
      "execution_count": 38,
      "outputs": [
        {
          "output_type": "execute_result",
          "data": {
            "text/plain": [
              "Index(['To', 'From', 'Reason for dishing', 'Unnamed: 3', 'Date', 'Room',\n",
              "       'v1 norm', 'v2 norm', 'v3 norm', 'Avg %', 'IH per Praise',\n",
              "       'IH per person', 'Unnamed: 12', 'v1', 'v2', 'v3', 'period',\n",
              "       'Cred per Praise', 'Cred per person', 'To.1'],\n",
              "      dtype='object')"
            ]
          },
          "metadata": {
            "tags": []
          },
          "execution_count": 38
        }
      ]
    },
    {
      "cell_type": "code",
      "metadata": {
        "colab": {
          "base_uri": "https://localhost:8080/"
        },
        "id": "XTBYgVOOghFb",
        "outputId": "238c59a6-37b5-4e09-c746-23904cd4dc6c"
      },
      "source": [
        "df.isna().sum()"
      ],
      "execution_count": 39,
      "outputs": [
        {
          "output_type": "execute_result",
          "data": {
            "text/plain": [
              "To                       1\n",
              "From                     1\n",
              "Reason for dishing       0\n",
              "Unnamed: 3             317\n",
              "Date                   317\n",
              "Room                   317\n",
              "v1 norm               2159\n",
              "v2 norm               1288\n",
              "v3 norm               1287\n",
              "Avg %                   17\n",
              "IH per Praise          564\n",
              "IH per person          510\n",
              "Unnamed: 12             64\n",
              "v1                       0\n",
              "v2                       0\n",
              "v3                       0\n",
              "period                   0\n",
              "Cred per Praise       7437\n",
              "Cred per person       7437\n",
              "To.1                  7947\n",
              "dtype: int64"
            ]
          },
          "metadata": {
            "tags": []
          },
          "execution_count": 39
        }
      ]
    },
    {
      "cell_type": "markdown",
      "metadata": {
        "id": "3riUZ5gEhILs"
      },
      "source": [
        "We observe many null values in the final 3 columns. We will drop these for now."
      ]
    },
    {
      "cell_type": "code",
      "metadata": {
        "id": "7YRjRV-RgxKs"
      },
      "source": [
        "df.drop(['Cred per Praise', 'Cred per person', 'To.1'], inplace=True, axis=1)"
      ],
      "execution_count": 40,
      "outputs": []
    },
    {
      "cell_type": "markdown",
      "metadata": {
        "id": "Xax7MPNejGe3"
      },
      "source": [
        "# Date inconsistency\n",
        "\n",
        "It appears that the format of the dates in the data is inconsistent. Some entries opt for the format Month-Day-Year while others use Year-Month-Day."
      ]
    },
    {
      "cell_type": "code",
      "metadata": {
        "colab": {
          "base_uri": "https://localhost:8080/"
        },
        "id": "dLSvf7YfiTNz",
        "outputId": "4cc620bf-a5c5-4f2c-a3b5-79d62b396c21"
      },
      "source": [
        "df['Date']"
      ],
      "execution_count": 41,
      "outputs": [
        {
          "output_type": "execute_result",
          "data": {
            "text/plain": [
              "0               May-07-2021\n",
              "1               May-07-2021\n",
              "2               Apr-28-2021\n",
              "3               Apr-30-2021\n",
              "4               Apr-30-2021\n",
              "               ...         \n",
              "7942                    NaN\n",
              "7943    2020-11-28 00:00:00\n",
              "7944    2020-12-02 00:00:00\n",
              "7945    2020-11-27 00:00:00\n",
              "7946    2020-11-27 00:00:00\n",
              "Name: Date, Length: 7947, dtype: object"
            ]
          },
          "metadata": {
            "tags": []
          },
          "execution_count": 41
        }
      ]
    },
    {
      "cell_type": "code",
      "metadata": {
        "colab": {
          "base_uri": "https://localhost:8080/"
        },
        "id": "pQ9yS7-Vij2T",
        "outputId": "3f3f2673-dd32-43f6-ef67-e7a7f3d69463"
      },
      "source": [
        "df[\"Date\"].tail()"
      ],
      "execution_count": 42,
      "outputs": [
        {
          "output_type": "execute_result",
          "data": {
            "text/plain": [
              "7942                    NaN\n",
              "7943    2020-11-28 00:00:00\n",
              "7944    2020-12-02 00:00:00\n",
              "7945    2020-11-27 00:00:00\n",
              "7946    2020-11-27 00:00:00\n",
              "Name: Date, dtype: object"
            ]
          },
          "metadata": {
            "tags": []
          },
          "execution_count": 42
        }
      ]
    },
    {
      "cell_type": "code",
      "metadata": {
        "colab": {
          "base_uri": "https://localhost:8080/"
        },
        "id": "bLzD_rvKi3OV",
        "outputId": "ad54f71f-3208-4112-e9a8-1dfccaf45fe3"
      },
      "source": [
        "df[\"Date\"].head()"
      ],
      "execution_count": 43,
      "outputs": [
        {
          "output_type": "execute_result",
          "data": {
            "text/plain": [
              "0    May-07-2021\n",
              "1    May-07-2021\n",
              "2    Apr-28-2021\n",
              "3    Apr-30-2021\n",
              "4    Apr-30-2021\n",
              "Name: Date, dtype: object"
            ]
          },
          "metadata": {
            "tags": []
          },
          "execution_count": 43
        }
      ]
    },
    {
      "cell_type": "markdown",
      "metadata": {
        "id": "Ld8ux00Dxqsq"
      },
      "source": [
        "We will drop any NA dates."
      ]
    },
    {
      "cell_type": "code",
      "metadata": {
        "id": "8V6AKrjUv4vq"
      },
      "source": [
        "df[\"Date\"] = df[\"Date\"].dropna()"
      ],
      "execution_count": 44,
      "outputs": []
    },
    {
      "cell_type": "code",
      "metadata": {
        "id": "ag4Wu7C6j_sc"
      },
      "source": [
        "from dateutil import parser"
      ],
      "execution_count": 45,
      "outputs": []
    },
    {
      "cell_type": "markdown",
      "metadata": {
        "id": "yJSUAg-SrDa-"
      },
      "source": [
        "First we begin by turning all of the dates in the column into strings."
      ]
    },
    {
      "cell_type": "code",
      "metadata": {
        "id": "J1QXX34ne3-d"
      },
      "source": [
        "df[\"Date\"] = df[\"Date\"].apply(str)"
      ],
      "execution_count": 46,
      "outputs": []
    },
    {
      "cell_type": "markdown",
      "metadata": {
        "id": "IgcAUQZQrViL"
      },
      "source": [
        "Some other dates just have the word \"dup\" instead of a date. We can get rid of these. "
      ]
    },
    {
      "cell_type": "code",
      "metadata": {
        "colab": {
          "base_uri": "https://localhost:8080/",
          "height": 556
        },
        "id": "i0ujvP04qz6l",
        "outputId": "da73c51f-9748-43ea-bff8-567837bc4a56"
      },
      "source": [
        "df[df[\"Date\"] == \"dup\"]"
      ],
      "execution_count": 47,
      "outputs": [
        {
          "output_type": "execute_result",
          "data": {
            "text/html": [
              "<div>\n",
              "<style scoped>\n",
              "    .dataframe tbody tr th:only-of-type {\n",
              "        vertical-align: middle;\n",
              "    }\n",
              "\n",
              "    .dataframe tbody tr th {\n",
              "        vertical-align: top;\n",
              "    }\n",
              "\n",
              "    .dataframe thead th {\n",
              "        text-align: right;\n",
              "    }\n",
              "</style>\n",
              "<table border=\"1\" class=\"dataframe\">\n",
              "  <thead>\n",
              "    <tr style=\"text-align: right;\">\n",
              "      <th></th>\n",
              "      <th>To</th>\n",
              "      <th>From</th>\n",
              "      <th>Reason for dishing</th>\n",
              "      <th>Unnamed: 3</th>\n",
              "      <th>Date</th>\n",
              "      <th>Room</th>\n",
              "      <th>v1 norm</th>\n",
              "      <th>v2 norm</th>\n",
              "      <th>v3 norm</th>\n",
              "      <th>Avg %</th>\n",
              "      <th>IH per Praise</th>\n",
              "      <th>IH per person</th>\n",
              "      <th>Unnamed: 12</th>\n",
              "      <th>v1</th>\n",
              "      <th>v2</th>\n",
              "      <th>v3</th>\n",
              "      <th>period</th>\n",
              "    </tr>\n",
              "  </thead>\n",
              "  <tbody>\n",
              "    <tr>\n",
              "      <th>7459</th>\n",
              "      <td>ygganderson</td>\n",
              "      <td>JessicaZartler</td>\n",
              "      <td>hosting an amazing first TEC lab today on Pand...</td>\n",
              "      <td>PRAISE</td>\n",
              "      <td>dup</td>\n",
              "      <td>dup</td>\n",
              "      <td>NaN</td>\n",
              "      <td>NaN</td>\n",
              "      <td>NaN</td>\n",
              "      <td>0.0</td>\n",
              "      <td>NaN</td>\n",
              "      <td>NaN</td>\n",
              "      <td>ygganderson</td>\n",
              "      <td>Griff</td>\n",
              "      <td>Zep</td>\n",
              "      <td>Santi</td>\n",
              "      <td>#6 Dec 4</td>\n",
              "    </tr>\n",
              "    <tr>\n",
              "      <th>7693</th>\n",
              "      <td>liviade</td>\n",
              "      <td>iviangita</td>\n",
              "      <td>organizing the Praisegiving Call</td>\n",
              "      <td>PRAISE</td>\n",
              "      <td>dup</td>\n",
              "      <td>dup</td>\n",
              "      <td>NaN</td>\n",
              "      <td>NaN</td>\n",
              "      <td>NaN</td>\n",
              "      <td>0.0</td>\n",
              "      <td>NaN</td>\n",
              "      <td>NaN</td>\n",
              "      <td>liviade</td>\n",
              "      <td>Griff</td>\n",
              "      <td>Zep</td>\n",
              "      <td>Santi</td>\n",
              "      <td>#6 Dec 4</td>\n",
              "    </tr>\n",
              "    <tr>\n",
              "      <th>7707</th>\n",
              "      <td>paulo_c2d</td>\n",
              "      <td>zeptimusQ</td>\n",
              "      <td>completed the hatch connector, deployed xDai s...</td>\n",
              "      <td>PRAISE</td>\n",
              "      <td>dup</td>\n",
              "      <td>dup</td>\n",
              "      <td>NaN</td>\n",
              "      <td>NaN</td>\n",
              "      <td>NaN</td>\n",
              "      <td>0.0</td>\n",
              "      <td>NaN</td>\n",
              "      <td>NaN</td>\n",
              "      <td>paulo_c2d</td>\n",
              "      <td>Griff</td>\n",
              "      <td>Zep</td>\n",
              "      <td>Santi</td>\n",
              "      <td>#6 Dec 4</td>\n",
              "    </tr>\n",
              "    <tr>\n",
              "      <th>7743</th>\n",
              "      <td>jessicazartler</td>\n",
              "      <td>iviangita</td>\n",
              "      <td>organizing the Praisegiving Call</td>\n",
              "      <td>PRAISE</td>\n",
              "      <td>dup</td>\n",
              "      <td>dup</td>\n",
              "      <td>NaN</td>\n",
              "      <td>NaN</td>\n",
              "      <td>NaN</td>\n",
              "      <td>0.0</td>\n",
              "      <td>NaN</td>\n",
              "      <td>NaN</td>\n",
              "      <td>jessicazartler</td>\n",
              "      <td>Griff</td>\n",
              "      <td>Zep</td>\n",
              "      <td>Santi</td>\n",
              "      <td>#6 Dec 4</td>\n",
              "    </tr>\n",
              "    <tr>\n",
              "      <th>7835</th>\n",
              "      <td>gfriis</td>\n",
              "      <td>Tam2140</td>\n",
              "      <td>championing Tokenlog, even as you start your n...</td>\n",
              "      <td>PRAISE</td>\n",
              "      <td>dup</td>\n",
              "      <td>dup</td>\n",
              "      <td>NaN</td>\n",
              "      <td>NaN</td>\n",
              "      <td>NaN</td>\n",
              "      <td>0.0</td>\n",
              "      <td>NaN</td>\n",
              "      <td>NaN</td>\n",
              "      <td>gfriis</td>\n",
              "      <td>Griff</td>\n",
              "      <td>Zep</td>\n",
              "      <td>Santi</td>\n",
              "      <td>#6 Dec 4</td>\n",
              "    </tr>\n",
              "  </tbody>\n",
              "</table>\n",
              "</div>"
            ],
            "text/plain": [
              "                  To            From  ...     v3    period\n",
              "7459     ygganderson  JessicaZartler  ...  Santi  #6 Dec 4\n",
              "7693         liviade       iviangita  ...  Santi  #6 Dec 4\n",
              "7707       paulo_c2d       zeptimusQ  ...  Santi  #6 Dec 4\n",
              "7743  jessicazartler       iviangita  ...  Santi  #6 Dec 4\n",
              "7835          gfriis         Tam2140  ...  Santi  #6 Dec 4\n",
              "\n",
              "[5 rows x 17 columns]"
            ]
          },
          "metadata": {
            "tags": []
          },
          "execution_count": 47
        }
      ]
    },
    {
      "cell_type": "code",
      "metadata": {
        "id": "BqP4cnk9rb1I"
      },
      "source": [
        "df = df[df[\"Date\"] != \"dup\"]"
      ],
      "execution_count": 48,
      "outputs": []
    },
    {
      "cell_type": "code",
      "metadata": {
        "id": "OYt2Na4o8ieF"
      },
      "source": [
        "df = df[df[\"Date\"] != \"nan\"]"
      ],
      "execution_count": 49,
      "outputs": []
    },
    {
      "cell_type": "code",
      "metadata": {
        "id": "7RX5QbD-qahB"
      },
      "source": [
        "def normalize_dates(date_str):\n",
        "  \"\"\"\n",
        "  This function takes in a string that contains a date and converts it to the \n",
        "  format Year-Month-Day.\n",
        "  \n",
        "  :param date_str: The string containing the date. \n",
        "  :return: The date in the format Year-Month-Day.\n",
        "  \"\"\"\n",
        "  d = parser.parse(date_str)\n",
        "  return d.strftime(\"%Y-%m-%d\")"
      ],
      "execution_count": 50,
      "outputs": []
    },
    {
      "cell_type": "markdown",
      "metadata": {
        "id": "nUubCvLFsCKC"
      },
      "source": [
        "A quick sanity check to ensure that we have the correct results after this function was applied."
      ]
    },
    {
      "cell_type": "code",
      "metadata": {
        "colab": {
          "base_uri": "https://localhost:8080/"
        },
        "id": "IMGTdnB8qOJG",
        "outputId": "ae0b23d8-840a-461f-f081-d9d5e9868a5a"
      },
      "source": [
        "df[\"Date\"].apply(normalize_dates)"
      ],
      "execution_count": 51,
      "outputs": [
        {
          "output_type": "execute_result",
          "data": {
            "text/plain": [
              "0       2021-05-07\n",
              "1       2021-05-07\n",
              "2       2021-04-28\n",
              "3       2021-04-30\n",
              "4       2021-04-30\n",
              "           ...    \n",
              "7941    2020-12-01\n",
              "7943    2020-11-28\n",
              "7944    2020-12-02\n",
              "7945    2020-11-27\n",
              "7946    2020-11-27\n",
              "Name: Date, Length: 7625, dtype: object"
            ]
          },
          "metadata": {
            "tags": []
          },
          "execution_count": 51
        }
      ]
    },
    {
      "cell_type": "code",
      "metadata": {
        "colab": {
          "base_uri": "https://localhost:8080/"
        },
        "id": "14ta3bDyn9-S",
        "outputId": "d7b7775c-52de-4d43-bc4e-e543216ee9d2"
      },
      "source": [
        "df[\"Date\"]"
      ],
      "execution_count": 52,
      "outputs": [
        {
          "output_type": "execute_result",
          "data": {
            "text/plain": [
              "0               May-07-2021\n",
              "1               May-07-2021\n",
              "2               Apr-28-2021\n",
              "3               Apr-30-2021\n",
              "4               Apr-30-2021\n",
              "               ...         \n",
              "7941    2020-12-01 00:00:00\n",
              "7943    2020-11-28 00:00:00\n",
              "7944    2020-12-02 00:00:00\n",
              "7945    2020-11-27 00:00:00\n",
              "7946    2020-11-27 00:00:00\n",
              "Name: Date, Length: 7625, dtype: object"
            ]
          },
          "metadata": {
            "tags": []
          },
          "execution_count": 52
        }
      ]
    },
    {
      "cell_type": "code",
      "metadata": {
        "id": "5eoNyhUOoFwM"
      },
      "source": [
        "df[\"Date\"] = pd.to_datetime(df[\"Date\"])"
      ],
      "execution_count": 53,
      "outputs": []
    },
    {
      "cell_type": "markdown",
      "metadata": {
        "id": "SVISelIyyFq1"
      },
      "source": [
        "Now we add features for the year month and day."
      ]
    },
    {
      "cell_type": "code",
      "metadata": {
        "id": "zcEYh0EPsTkT"
      },
      "source": [
        "df[\"Year\"] = df[\"Date\"].dt.year"
      ],
      "execution_count": 54,
      "outputs": []
    },
    {
      "cell_type": "code",
      "metadata": {
        "id": "WzXDCmL3sy4k"
      },
      "source": [
        "df[\"Month\"] = df[\"Date\"].dt.month"
      ],
      "execution_count": 55,
      "outputs": []
    },
    {
      "cell_type": "code",
      "metadata": {
        "id": "3sNV1nyXtoTH"
      },
      "source": [
        "df[\"Day\"] = df[\"Date\"].dt.day"
      ],
      "execution_count": 56,
      "outputs": []
    },
    {
      "cell_type": "markdown",
      "metadata": {
        "id": "42MGaT2H8-vh"
      },
      "source": [
        "Now we can group the data based on these features."
      ]
    },
    {
      "cell_type": "code",
      "metadata": {
        "id": "tcy18cAi1FEe"
      },
      "source": [
        "days = df.groupby(['Day']).To.nunique().reset_index()"
      ],
      "execution_count": 57,
      "outputs": []
    },
    {
      "cell_type": "code",
      "metadata": {
        "colab": {
          "base_uri": "https://localhost:8080/",
          "height": 1000
        },
        "id": "hEbDPdSD8FfN",
        "outputId": "3aab143b-3861-4a07-8759-e875b27d7d00"
      },
      "source": [
        "days"
      ],
      "execution_count": 58,
      "outputs": [
        {
          "output_type": "execute_result",
          "data": {
            "text/html": [
              "<div>\n",
              "<style scoped>\n",
              "    .dataframe tbody tr th:only-of-type {\n",
              "        vertical-align: middle;\n",
              "    }\n",
              "\n",
              "    .dataframe tbody tr th {\n",
              "        vertical-align: top;\n",
              "    }\n",
              "\n",
              "    .dataframe thead th {\n",
              "        text-align: right;\n",
              "    }\n",
              "</style>\n",
              "<table border=\"1\" class=\"dataframe\">\n",
              "  <thead>\n",
              "    <tr style=\"text-align: right;\">\n",
              "      <th></th>\n",
              "      <th>Day</th>\n",
              "      <th>To</th>\n",
              "    </tr>\n",
              "  </thead>\n",
              "  <tbody>\n",
              "    <tr>\n",
              "      <th>0</th>\n",
              "      <td>1</td>\n",
              "      <td>70</td>\n",
              "    </tr>\n",
              "    <tr>\n",
              "      <th>1</th>\n",
              "      <td>2</td>\n",
              "      <td>89</td>\n",
              "    </tr>\n",
              "    <tr>\n",
              "      <th>2</th>\n",
              "      <td>3</td>\n",
              "      <td>109</td>\n",
              "    </tr>\n",
              "    <tr>\n",
              "      <th>3</th>\n",
              "      <td>4</td>\n",
              "      <td>101</td>\n",
              "    </tr>\n",
              "    <tr>\n",
              "      <th>4</th>\n",
              "      <td>5</td>\n",
              "      <td>147</td>\n",
              "    </tr>\n",
              "    <tr>\n",
              "      <th>5</th>\n",
              "      <td>6</td>\n",
              "      <td>60</td>\n",
              "    </tr>\n",
              "    <tr>\n",
              "      <th>6</th>\n",
              "      <td>7</td>\n",
              "      <td>105</td>\n",
              "    </tr>\n",
              "    <tr>\n",
              "      <th>7</th>\n",
              "      <td>8</td>\n",
              "      <td>100</td>\n",
              "    </tr>\n",
              "    <tr>\n",
              "      <th>8</th>\n",
              "      <td>9</td>\n",
              "      <td>100</td>\n",
              "    </tr>\n",
              "    <tr>\n",
              "      <th>9</th>\n",
              "      <td>10</td>\n",
              "      <td>53</td>\n",
              "    </tr>\n",
              "    <tr>\n",
              "      <th>10</th>\n",
              "      <td>11</td>\n",
              "      <td>46</td>\n",
              "    </tr>\n",
              "    <tr>\n",
              "      <th>11</th>\n",
              "      <td>12</td>\n",
              "      <td>102</td>\n",
              "    </tr>\n",
              "    <tr>\n",
              "      <th>12</th>\n",
              "      <td>13</td>\n",
              "      <td>56</td>\n",
              "    </tr>\n",
              "    <tr>\n",
              "      <th>13</th>\n",
              "      <td>14</td>\n",
              "      <td>53</td>\n",
              "    </tr>\n",
              "    <tr>\n",
              "      <th>14</th>\n",
              "      <td>15</td>\n",
              "      <td>63</td>\n",
              "    </tr>\n",
              "    <tr>\n",
              "      <th>15</th>\n",
              "      <td>16</td>\n",
              "      <td>105</td>\n",
              "    </tr>\n",
              "    <tr>\n",
              "      <th>16</th>\n",
              "      <td>17</td>\n",
              "      <td>48</td>\n",
              "    </tr>\n",
              "    <tr>\n",
              "      <th>17</th>\n",
              "      <td>18</td>\n",
              "      <td>66</td>\n",
              "    </tr>\n",
              "    <tr>\n",
              "      <th>18</th>\n",
              "      <td>19</td>\n",
              "      <td>129</td>\n",
              "    </tr>\n",
              "    <tr>\n",
              "      <th>19</th>\n",
              "      <td>20</td>\n",
              "      <td>56</td>\n",
              "    </tr>\n",
              "    <tr>\n",
              "      <th>20</th>\n",
              "      <td>21</td>\n",
              "      <td>51</td>\n",
              "    </tr>\n",
              "    <tr>\n",
              "      <th>21</th>\n",
              "      <td>22</td>\n",
              "      <td>86</td>\n",
              "    </tr>\n",
              "    <tr>\n",
              "      <th>22</th>\n",
              "      <td>23</td>\n",
              "      <td>127</td>\n",
              "    </tr>\n",
              "    <tr>\n",
              "      <th>23</th>\n",
              "      <td>24</td>\n",
              "      <td>68</td>\n",
              "    </tr>\n",
              "    <tr>\n",
              "      <th>24</th>\n",
              "      <td>25</td>\n",
              "      <td>46</td>\n",
              "    </tr>\n",
              "    <tr>\n",
              "      <th>25</th>\n",
              "      <td>26</td>\n",
              "      <td>129</td>\n",
              "    </tr>\n",
              "    <tr>\n",
              "      <th>26</th>\n",
              "      <td>27</td>\n",
              "      <td>104</td>\n",
              "    </tr>\n",
              "    <tr>\n",
              "      <th>27</th>\n",
              "      <td>28</td>\n",
              "      <td>66</td>\n",
              "    </tr>\n",
              "    <tr>\n",
              "      <th>28</th>\n",
              "      <td>29</td>\n",
              "      <td>64</td>\n",
              "    </tr>\n",
              "    <tr>\n",
              "      <th>29</th>\n",
              "      <td>30</td>\n",
              "      <td>90</td>\n",
              "    </tr>\n",
              "    <tr>\n",
              "      <th>30</th>\n",
              "      <td>31</td>\n",
              "      <td>23</td>\n",
              "    </tr>\n",
              "  </tbody>\n",
              "</table>\n",
              "</div>"
            ],
            "text/plain": [
              "    Day   To\n",
              "0     1   70\n",
              "1     2   89\n",
              "2     3  109\n",
              "3     4  101\n",
              "4     5  147\n",
              "5     6   60\n",
              "6     7  105\n",
              "7     8  100\n",
              "8     9  100\n",
              "9    10   53\n",
              "10   11   46\n",
              "11   12  102\n",
              "12   13   56\n",
              "13   14   53\n",
              "14   15   63\n",
              "15   16  105\n",
              "16   17   48\n",
              "17   18   66\n",
              "18   19  129\n",
              "19   20   56\n",
              "20   21   51\n",
              "21   22   86\n",
              "22   23  127\n",
              "23   24   68\n",
              "24   25   46\n",
              "25   26  129\n",
              "26   27  104\n",
              "27   28   66\n",
              "28   29   64\n",
              "29   30   90\n",
              "30   31   23"
            ]
          },
          "metadata": {
            "tags": []
          },
          "execution_count": 58
        }
      ]
    },
    {
      "cell_type": "markdown",
      "metadata": {
        "id": "WnLJZPXf9ES0"
      },
      "source": [
        "Consider a plot of the number of praises given broken down by day of the month. We see that the most praise is given on the 5th day of the month."
      ]
    },
    {
      "cell_type": "code",
      "metadata": {
        "colab": {
          "base_uri": "https://localhost:8080/",
          "height": 263
        },
        "id": "-N7nbCjF6_VB",
        "outputId": "47982191-78e3-4c0f-aad9-bc93edb1b7e1"
      },
      "source": [
        "fig, ax = plt.subplots()\n",
        "ax.bar(days[\"Day\"], days[\"To\"], color='k')\n",
        "ax.set_ylim(0, days[\"To\"].max()+5)\n",
        "fig.autofmt_xdate()\n",
        "plt.xlabel('Day of Month')\n",
        "plt.ylabel('Counts')\n",
        "plt.show()\n"
      ],
      "execution_count": 59,
      "outputs": [
        {
          "output_type": "display_data",
          "data": {
            "image/png": "[encoded data removed]",
            "text/plain": [
              "<Figure size 432x288 with 1 Axes>"
            ]
          },
          "metadata": {
            "tags": [],
            "needs_background": "light"
          }
        }
      ]
    },
    {
      "cell_type": "code",
      "metadata": {
        "id": "N8mVG3C67v5H"
      },
      "source": [
        "months = df.groupby(['Month']).To.nunique().reset_index()"
      ],
      "execution_count": 60,
      "outputs": []
    },
    {
      "cell_type": "markdown",
      "metadata": {
        "id": "1R6LVjqt9rwx"
      },
      "source": [
        "Consider a plot of the number of praises given broken down by the month. We see that the most praise is given in April. Interestingly, no praise at all is given between the months of June-October. "
      ]
    },
    {
      "cell_type": "code",
      "metadata": {
        "colab": {
          "base_uri": "https://localhost:8080/",
          "height": 263
        },
        "id": "Wb6vs32u7zbw",
        "outputId": "fb30831a-0108-4ad4-8f83-37765aa86c7f"
      },
      "source": [
        "fig, ax = plt.subplots()\n",
        "ax.bar(months[\"Month\"], months[\"To\"], color='k')\n",
        "ax.set_ylim(0, months[\"To\"].max()+5)\n",
        "fig.autofmt_xdate()\n",
        "plt.xlabel('Month')\n",
        "plt.ylabel('Counts')\n",
        "plt.show()"
      ],
      "execution_count": 61,
      "outputs": [
        {
          "output_type": "display_data",
          "data": {
            "image/png": "[encoded data removed]",
            "text/plain": [
              "<Figure size 432x288 with 1 Axes>"
            ]
          },
          "metadata": {
            "tags": [],
            "needs_background": "light"
          }
        }
      ]
    },
    {
      "cell_type": "code",
      "metadata": {
        "id": "txZQEcBq-ENP"
      },
      "source": [
        "dates = df.groupby(['Date']).To.nunique().reset_index()"
      ],
      "execution_count": 62,
      "outputs": []
    },
    {
      "cell_type": "code",
      "metadata": {
        "id": "D2djP6UNBmEP"
      },
      "source": [
        ""
      ],
      "execution_count": 62,
      "outputs": []
    },
    {
      "cell_type": "code",
      "metadata": {
        "colab": {
          "base_uri": "https://localhost:8080/",
          "height": 277
        },
        "id": "WPuTYCmy-Hq5",
        "outputId": "ef591aee-f48e-4bc7-a1b1-198989b30302"
      },
      "source": [
        "\n",
        "fig, ax = plt.subplots()\n",
        "ax.plot_date(dates[\"Date\"], dates[\"To\"], color='k', xdate=True)\n",
        "ax.set_ylim(0, dates[\"To\"].max()+5)\n",
        "fig.autofmt_xdate()\n",
        "plt.xlabel('Date')\n",
        "plt.ylabel('Counts')\n",
        "plt.show()"
      ],
      "execution_count": 63,
      "outputs": [
        {
          "output_type": "display_data",
          "data": {
            "image/png": "[encoded data removed]",
            "text/plain": [
              "<Figure size 432x288 with 1 Axes>"
            ]
          },
          "metadata": {
            "tags": [],
            "needs_background": "light"
          }
        }
      ]
    },
    {
      "cell_type": "code",
      "metadata": {
        "colab": {
          "base_uri": "https://localhost:8080/",
          "height": 296
        },
        "id": "s-JdKMOaB6Yh",
        "outputId": "8f3461ee-15bd-4b5a-bd4c-c05eec230703"
      },
      "source": [
        "sns.lineplot(x=\"Date\", y=\"To\", data=dates)"
      ],
      "execution_count": 64,
      "outputs": [
        {
          "output_type": "execute_result",
          "data": {
            "text/plain": [
              "<matplotlib.axes._subplots.AxesSubplot at 0x7f7e9b683a50>"
            ]
          },
          "metadata": {
            "tags": []
          },
          "execution_count": 64
        },
        {
          "output_type": "display_data",
          "data": {
            "image/png": "[encoded data removed]",
            "text/plain": [
              "<Figure size 432x288 with 1 Axes>"
            ]
          },
          "metadata": {
            "tags": [],
            "needs_background": "light"
          }
        }
      ]
    },
    {
      "cell_type": "code",
      "metadata": {
        "colab": {
          "base_uri": "https://localhost:8080/",
          "height": 424
        },
        "id": "WF2IbeKdCQnG",
        "outputId": "0a3778c7-4efe-4382-9c1e-3baaaafff611"
      },
      "source": [
        "dates.sort_values(by=['To'], ascending=False)"
      ],
      "execution_count": 65,
      "outputs": [
        {
          "output_type": "execute_result",
          "data": {
            "text/html": [
              "<div>\n",
              "<style scoped>\n",
              "    .dataframe tbody tr th:only-of-type {\n",
              "        vertical-align: middle;\n",
              "    }\n",
              "\n",
              "    .dataframe tbody tr th {\n",
              "        vertical-align: top;\n",
              "    }\n",
              "\n",
              "    .dataframe thead th {\n",
              "        text-align: right;\n",
              "    }\n",
              "</style>\n",
              "<table border=\"1\" class=\"dataframe\">\n",
              "  <thead>\n",
              "    <tr style=\"text-align: right;\">\n",
              "      <th></th>\n",
              "      <th>Date</th>\n",
              "      <th>To</th>\n",
              "    </tr>\n",
              "  </thead>\n",
              "  <tbody>\n",
              "    <tr>\n",
              "      <th>95</th>\n",
              "      <td>2021-02-26</td>\n",
              "      <td>92</td>\n",
              "    </tr>\n",
              "    <tr>\n",
              "      <th>163</th>\n",
              "      <td>2021-05-07</td>\n",
              "      <td>84</td>\n",
              "    </tr>\n",
              "    <tr>\n",
              "      <th>101</th>\n",
              "      <td>2021-03-05</td>\n",
              "      <td>81</td>\n",
              "    </tr>\n",
              "    <tr>\n",
              "      <th>156</th>\n",
              "      <td>2021-04-30</td>\n",
              "      <td>74</td>\n",
              "    </tr>\n",
              "    <tr>\n",
              "      <th>136</th>\n",
              "      <td>2021-04-09</td>\n",
              "      <td>73</td>\n",
              "    </tr>\n",
              "    <tr>\n",
              "      <th>...</th>\n",
              "      <td>...</td>\n",
              "      <td>...</td>\n",
              "    </tr>\n",
              "    <tr>\n",
              "      <th>151</th>\n",
              "      <td>2021-04-25</td>\n",
              "      <td>1</td>\n",
              "    </tr>\n",
              "    <tr>\n",
              "      <th>102</th>\n",
              "      <td>2021-03-06</td>\n",
              "      <td>1</td>\n",
              "    </tr>\n",
              "    <tr>\n",
              "      <th>158</th>\n",
              "      <td>2021-05-02</td>\n",
              "      <td>1</td>\n",
              "    </tr>\n",
              "    <tr>\n",
              "      <th>69</th>\n",
              "      <td>2021-01-31</td>\n",
              "      <td>1</td>\n",
              "    </tr>\n",
              "    <tr>\n",
              "      <th>8</th>\n",
              "      <td>2020-11-29</td>\n",
              "      <td>1</td>\n",
              "    </tr>\n",
              "  </tbody>\n",
              "</table>\n",
              "<p>165 rows × 2 columns</p>\n",
              "</div>"
            ],
            "text/plain": [
              "          Date  To\n",
              "95  2021-02-26  92\n",
              "163 2021-05-07  84\n",
              "101 2021-03-05  81\n",
              "156 2021-04-30  74\n",
              "136 2021-04-09  73\n",
              "..         ...  ..\n",
              "151 2021-04-25   1\n",
              "102 2021-03-06   1\n",
              "158 2021-05-02   1\n",
              "69  2021-01-31   1\n",
              "8   2020-11-29   1\n",
              "\n",
              "[165 rows x 2 columns]"
            ]
          },
          "metadata": {
            "tags": []
          },
          "execution_count": 65
        }
      ]
    },
    {
      "cell_type": "code",
      "metadata": {
        "id": "Fa5VRCIvx6Al"
      },
      "source": [
        "df.to_csv(\"processed_praise.csv\")"
      ],
      "execution_count": 66,
      "outputs": []
    },
    {
      "cell_type": "markdown",
      "metadata": {
        "id": "bVAFvSQZEonl"
      },
      "source": [
        ""
      ]
    },
    {
      "cell_type": "code",
      "metadata": {
        "id": "IxhlXXCSyARx"
      },
      "source": [
        ""
      ],
      "execution_count": 66,
      "outputs": []
    }
  ]
}