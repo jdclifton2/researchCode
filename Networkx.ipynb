{
  "nbformat": 4,
  "nbformat_minor": 0,
  "metadata": {
    "colab": {
      "name": "Networkx",
      "provenance": []
    },
    "kernelspec": {
      "name": "python3",
      "display_name": "Python 3"
    }
  },
  "cells": [
    {
      "cell_type": "code",
      "metadata": {
        "colab": {
          "base_uri": "https://localhost:8080/"
        },
        "id": "zqso4mSsh50d",
        "outputId": "87d6b3be-f450-4785-c222-b7ada82ec880"
      },
      "source": [
        "import sys\r\n",
        "!{sys.executable} -m pip install networkx"
      ],
      "execution_count": 1,
      "outputs": [
        {
          "output_type": "stream",
          "text": [
            "Requirement already satisfied: networkx in /usr/local/lib/python3.6/dist-packages (2.5)\n",
            "Requirement already satisfied: decorator>=4.3.0 in /usr/local/lib/python3.6/dist-packages (from networkx) (4.4.2)\n"
          ],
          "name": "stdout"
        }
      ]
    },
    {
      "cell_type": "code",
      "metadata": {
        "id": "D8cg_vXklVLE"
      },
      "source": [
        "import networkx as nx\r\n",
        "import unittest as ut"
      ],
      "execution_count": 2,
      "outputs": []
    },
    {
      "cell_type": "code",
      "metadata": {
        "id": "bOlTmszVK4xD"
      },
      "source": [
        "def n_distance_neighbors(G, start_node, distance):\r\n",
        "  \"\"\"\r\n",
        "  This function takes in a graph, starting node, and a distance. It will traverse\r\n",
        "  the graph from the starting node and find all the neighbors within the distance\r\n",
        "  where distance between two vertices in a graph is the number of edges in a \r\n",
        "  shortest path.\r\n",
        "\r\n",
        "  :param G: A networkx graph.\r\n",
        "  :param start_node: The starting point. Distance from this node. Must be in G.\r\n",
        "  :param distance: The distance to find neighbors within.\r\n",
        "  :return: A list of vertices within specified distance.\r\n",
        "  :rtype: List\r\n",
        "  \"\"\"\r\n",
        "  neighbors = []\r\n",
        "  nodes = nx.single_source_shortest_path_length(G,start_node,distance)\r\n",
        "  for x in nodes:\r\n",
        "    if nodes[x] <= distance:\r\n",
        "      neighbors.append(x)\r\n",
        "  return neighbors\r\n"
      ],
      "execution_count": 36,
      "outputs": []
    },
    {
      "cell_type": "code",
      "metadata": {
        "colab": {
          "base_uri": "https://localhost:8080/"
        },
        "id": "-ZKXOefkMwQC",
        "outputId": "99d1c577-5716-40c7-c017-8c793da70207"
      },
      "source": [
        "class TestNeighbors(ut.TestCase):\r\n",
        "  \r\n",
        "  def test_distance_two_simple_graph(self):\r\n",
        "    G = nx.Graph()\r\n",
        "    G.add_edges_from([(1, 2), (1, 3),(1,4),(2,5),(5,6),(6,7)])\r\n",
        "    result = n_distance_neighbors(G, 1, 2)\r\n",
        "    answer = [1,2,3,4,5]\r\n",
        "    self.assertEqual(result, answer)\r\n",
        "\r\n",
        "  def test_distance_three_simple_graph(self):\r\n",
        "    G = nx.Graph()\r\n",
        "    G.add_edges_from([(1, 2), (1, 3),(1,4),(2,5),(5,6),(6,7)])\r\n",
        "    result = n_distance_neighbors(G, 1, 3)\r\n",
        "    answer = [1,2,3,4,5,6]\r\n",
        "    self.assertEqual(result, answer)\r\n",
        "\r\n",
        "  def test_distance_three_simple_graph(self):\r\n",
        "    G = nx.Graph()\r\n",
        "    G.add_edges_from([(1, 2), (1, 3),(1,4),(2,5),(5,6),(6,7)])\r\n",
        "    result = n_distance_neighbors(G, 1, 4)\r\n",
        "    answer = [1,2,3,4,5,6,7]\r\n",
        "    self.assertEqual(result, answer)\r\n",
        "\r\n",
        "  def test_distance_three_simple_graph(self):\r\n",
        "    G = nx.Graph()\r\n",
        "    G.add_edges_from([(1, 2), (1, 3),(1,4),(2,5),(5,6),(6,7)])\r\n",
        "    result = n_distance_neighbors(G, 1, 4)\r\n",
        "    answer = [1,2,3,4,5,6,7]\r\n",
        "    self.assertEqual(result, answer)\r\n",
        "\r\n",
        "  def test_distance_two_complex_graph(self):\r\n",
        "    G = nx.Graph()\r\n",
        "    G.add_edges_from([(1, 2), (1, 3),(1,9), (2,3), (2,4), (2,5), (2,8), (3,6), \r\n",
        "                      (4,5), (4,12), (4,13),(6,7), (7,8), (9,10), (10,11), (11,12),\r\n",
        "                      (13,14), (14,15), (14,17),(15,16) ])\r\n",
        "    result = n_distance_neighbors(G, 1, 2)\r\n",
        "    result.sort()\r\n",
        "    answer = [1,2,3,4,5,6,8,9, 10]\r\n",
        "    self.assertEqual(result, answer)\r\n",
        "\r\n",
        "  def test_distance_three_complex_graph(self):\r\n",
        "    G = nx.Graph()\r\n",
        "    G.add_edges_from([(1, 2), (1, 3),(1,9), (2,3), (2,4), (2,5), (2,8), (3,6), \r\n",
        "                      (4,5), (4,12), (4,13),(6,7), (7,8), (9,10), (10,11), (11,12),\r\n",
        "                      (13,14), (14,15), (14,17),(15,16) ])\r\n",
        "    result = n_distance_neighbors(G, 1, 3)\r\n",
        "    result.sort()\r\n",
        "    answer = [1, 2, 3, 4, 5, 6, 7, 8, 9, 10, 11, 12, 13]\r\n",
        "    self.assertEqual(result, answer)\r\n",
        "\r\n",
        "  def test_distance_four_complex_graph(self):\r\n",
        "    G = nx.Graph()\r\n",
        "    G.add_edges_from([(1, 2), (1, 3),(1,9), (2,3), (2,4), (2,5), (2,8), (3,6), \r\n",
        "                      (4,5), (4,12), (4,13),(6,7), (7,8), (9,10), (10,11), (11,12),\r\n",
        "                      (13,14), (14,15), (14,17),(15,16) ])\r\n",
        "    result = n_distance_neighbors(G, 1, 4)\r\n",
        "    result.sort()\r\n",
        "    answer = [1, 2, 3, 4, 5, 6, 7, 8, 9, 10, 11, 12, 13,14]\r\n",
        "    self.assertEqual(result, answer)\r\n",
        "\r\n",
        "  def test_distance_five_complex_graph(self):\r\n",
        "    G = nx.Graph()\r\n",
        "    G.add_edges_from([(1, 2), (1, 3),(1,9), (2,3), (2,4), (2,5), (2,8), (3,6), \r\n",
        "                      (4,5), (4,12), (4,13),(6,7), (7,8), (9,10), (10,11), (11,12),\r\n",
        "                      (13,14), (14,15), (14,17),(15,16) ])\r\n",
        "    result = n_distance_neighbors(G, 1, 5)\r\n",
        "    result.sort()\r\n",
        "    answer = [1, 2, 3, 4, 5, 6, 7, 8, 9, 10, 11, 12, 13, 14, 15, 17]\r\n",
        "    self.assertEqual(result, answer)\r\n",
        "\r\n",
        "  def test_distance_six_complex_graph(self):\r\n",
        "    G = nx.Graph()\r\n",
        "    G.add_edges_from([(1, 2), (1, 3),(1,9), (2,3), (2,4), (2,5), (2,8), (3,6), \r\n",
        "                      (4,5), (4,12), (4,13),(6,7), (7,8), (9,10), (10,11), (11,12),\r\n",
        "                      (13,14), (14,15), (14,17),(15,16) ])\r\n",
        "    result = n_distance_neighbors(G, 1, 6)\r\n",
        "    result.sort()\r\n",
        "    answer = [1, 2, 3, 4, 5, 6, 7, 8, 9, 10, 11, 12, 13, 14, 15, 16, 17]\r\n",
        "    self.assertEqual(result, answer)\r\n",
        "\r\n",
        "ut.main(argv=[''], exit=False)"
      ],
      "execution_count": 37,
      "outputs": [
        {
          "output_type": "stream",
          "text": [
            ".......\n",
            "----------------------------------------------------------------------\n",
            "Ran 7 tests in 0.008s\n",
            "\n",
            "OK\n"
          ],
          "name": "stderr"
        },
        {
          "output_type": "execute_result",
          "data": {
            "text/plain": [
              "<unittest.main.TestProgram at 0x7fe7c4594860>"
            ]
          },
          "metadata": {
            "tags": []
          },
          "execution_count": 37
        }
      ]
    },
    {
      "cell_type": "code",
      "metadata": {
        "id": "fpyE0KAVOpZM"
      },
      "source": [
        ""
      ],
      "execution_count": 13,
      "outputs": []
    },
    {
      "cell_type": "code",
      "metadata": {
        "id": "Gm_BA2zUOvVT"
      },
      "source": [
        ""
      ],
      "execution_count": 13,
      "outputs": []
    }
  ]
}